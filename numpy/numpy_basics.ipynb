{
 "cells": [
  {
   "cell_type": "code",
   "execution_count": 28,
   "id": "fab076de",
   "metadata": {},
   "outputs": [
    {
     "name": "stdout",
     "output_type": "stream",
     "text": [
      "4\n",
      "dimensions are :  2\n",
      "no of rows and columns (3, 4)\n",
      "elements present in the array 4\n",
      "[[ 1  3  4  5]\n",
      " [ 1  3  7  5]\n",
      " [ 1 23  4  4]]\n"
     ]
    }
   ],
   "source": [
    "import numpy as np\n",
    "\n",
    "a=np.array([[1,3,4,5],[1,3,7,5],[1,23,4,4]])\n",
    "#accessing the elements\n",
    "print(a[0][2])\n",
    "print(\"dimensions are : \",a.ndim)#no.of axes\n",
    "#no. of rows and columns\n",
    "print(\"no of rows and columns\",a.shape)\n",
    "#elements present in the array\n",
    "print(\"elements present in the array\",a.itemsize)\n",
    "#printing the array \n",
    "print(a)"
   ]
  },
  {
   "cell_type": "code",
   "execution_count": 29,
   "id": "f1f0083a",
   "metadata": {},
   "outputs": [
    {
     "name": "stdout",
     "output_type": "stream",
     "text": [
      "[[0. 0. 0. 0.]\n",
      " [0. 0. 0. 0.]\n",
      " [0. 0. 0. 0.]]\n",
      "[[1. 1. 1. 1.]\n",
      " [1. 1. 1. 1.]\n",
      " [1. 1. 1. 1.]]\n"
     ]
    }
   ],
   "source": [
    "#printing all ones and zeros\n",
    "import numpy as np\n",
    "\n",
    "#printing all  zeros in a arrray\n",
    "a=np.zeros((3,4))\n",
    "print(a)\n",
    "#printing all ones in a array\n",
    "b=np.ones((3,4))\n",
    "print(b)"
   ]
  },
  {
   "cell_type": "code",
   "execution_count": 2,
   "id": "1e824af0",
   "metadata": {},
   "outputs": [
    {
     "name": "stdout",
     "output_type": "stream",
     "text": [
      "[[34 34 34]\n",
      " [34 34 34]\n",
      " [34 34 34]]\n"
     ]
    }
   ],
   "source": [
    "#printing all the elements in the array as same.using full function\n",
    "import numpy as np\n",
    "\n",
    "a=np.full((3,3),34,dtype='int32')\n",
    "print(a)"
   ]
  },
  {
   "cell_type": "code",
   "execution_count": 3,
   "id": "8db5ac0d",
   "metadata": {},
   "outputs": [
    {
     "name": "stdout",
     "output_type": "stream",
     "text": [
      "[[1. 0. 0. 0. 0.]\n",
      " [0. 1. 0. 0. 0.]\n",
      " [0. 0. 1. 0. 0.]\n",
      " [0. 0. 0. 1. 0.]\n",
      " [0. 0. 0. 0. 1.]]\n"
     ]
    }
   ],
   "source": [
    "#creating an identity matrix\n",
    "import numpy as np\n",
    "\n",
    "a=np.identity(5)\n",
    "print(a)"
   ]
  },
  {
   "cell_type": "code",
   "execution_count": 12,
   "id": "326b9f1a",
   "metadata": {},
   "outputs": [
    {
     "name": "stdout",
     "output_type": "stream",
     "text": [
      "the repeatition along axis 0 : [[12 34  4]\n",
      " [12 34  4]\n",
      " [12 34  4]\n",
      " [ 1  3  2]\n",
      " [ 1  3  2]\n",
      " [ 1  3  2]]\n",
      "the repeatition along axis 1 : [[12 12 12 34 34 34  4  4  4]\n",
      " [ 1  1  1  3  3  3  2  2  2]]\n"
     ]
    }
   ],
   "source": [
    "import numpy as np\n",
    "\n",
    "a=np.array([[12,34,4],[1,3,2]])\n",
    "b=np.repeat(a,3,axis=1)\n",
    "c=np.repeat(a,3,axis =0)\n",
    "print(\"the repeatition along axis 0 :\",c)\n",
    "print(\"the repeatition along axis 1 :\",b)"
   ]
  },
  {
   "cell_type": "code",
   "execution_count": 32,
   "id": "ac19c853",
   "metadata": {},
   "outputs": [
    {
     "name": "stdout",
     "output_type": "stream",
     "text": [
      "[0 1 2 3 4]\n"
     ]
    }
   ],
   "source": [
    "#printing the range using numpy\n",
    "import numpy as np\n",
    "\n",
    "a=np.arange(5)\n",
    "\n",
    "print(a)"
   ]
  },
  {
   "cell_type": "code",
   "execution_count": 33,
   "id": "a1e62083",
   "metadata": {},
   "outputs": [
    {
     "name": "stdout",
     "output_type": "stream",
     "text": [
      "['hello akill' 'welcome to cse']\n"
     ]
    }
   ],
   "source": [
    "#concatenation using numpy\n",
    "import numpy as np\n",
    "\n",
    "#concatenation\n",
    "a=np.char.add(['hello ','welcome to'],['akill',' cse'])\n",
    "print(a)"
   ]
  },
  {
   "cell_type": "code",
   "execution_count": 42,
   "id": "f6a09b90",
   "metadata": {},
   "outputs": [
    {
     "name": "stdout",
     "output_type": "stream",
     "text": [
      " hello  hello  hello \n"
     ]
    }
   ],
   "source": [
    "#multiplying the string using numpy\n",
    "\n",
    "import numpy as np\n",
    "\n",
    "a=np.char.multiply(' hello ',3)\n",
    "print(a)"
   ]
  },
  {
   "cell_type": "code",
   "execution_count": 45,
   "id": "586188ed",
   "metadata": {},
   "outputs": [
    {
     "name": "stdout",
     "output_type": "stream",
     "text": [
      "*******hello********\n"
     ]
    }
   ],
   "source": [
    "#making the space in between the string\n",
    "\n",
    "import numpy as np\n",
    "\n",
    "a=np.char.center('hello',20,fillchar='*')\n",
    "print(a)"
   ]
  },
  {
   "cell_type": "code",
   "execution_count": 54,
   "id": "98031fea",
   "metadata": {},
   "outputs": [
    {
     "name": "stdout",
     "output_type": "stream",
     "text": [
      "Akill raja\n",
      "title is : Akill Raja\n",
      "the lower case is  [['hello']\n",
      " ['akill']]\n",
      "uppercase is:  ['AKILL']\n",
      "['hello', 'who', 'are', 'you']\n"
     ]
    }
   ],
   "source": [
    "#using the string functions in numpy\n",
    "import numpy as np\n",
    "\n",
    "#capitalize function\n",
    "a=np.char.capitalize('akill raja')\n",
    "print(a)\n",
    "#title function \n",
    "a=np.char.title('akill raja')\n",
    "print(\"title is :\",a)\n",
    "#lower case function\n",
    "a=np.char.lower([['HELLO'],[\"AKILL\"]])\n",
    "print(\"the lower case is \",a)\n",
    "#uppercase string function\n",
    "a=np.char.upper(['akill'])\n",
    "print(\"uppercase is: \",a)\n",
    "#split function\n",
    "a=np.char.split('hello who are you')\n",
    "print(a)"
   ]
  },
  {
   "cell_type": "code",
   "execution_count": null,
   "id": "66f5a524",
   "metadata": {},
   "outputs": [],
   "source": []
  }
 ],
 "metadata": {
  "kernelspec": {
   "display_name": "Python 3 (ipykernel)",
   "language": "python",
   "name": "python3"
  },
  "language_info": {
   "codemirror_mode": {
    "name": "ipython",
    "version": 3
   },
   "file_extension": ".py",
   "mimetype": "text/x-python",
   "name": "python",
   "nbconvert_exporter": "python",
   "pygments_lexer": "ipython3",
   "version": "3.9.7"
  }
 },
 "nbformat": 4,
 "nbformat_minor": 5
}
