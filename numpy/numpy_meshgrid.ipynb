{
 "cells": [
  {
   "cell_type": "code",
   "execution_count": 5,
   "id": "2d08577b",
   "metadata": {},
   "outputs": [
    {
     "name": "stdout",
     "output_type": "stream",
     "text": [
      "meshgrid of x_1 : [[-4. -3. -2. -1.  0.  1.  2.  3.  4.]\n",
      " [-4. -3. -2. -1.  0.  1.  2.  3.  4.]\n",
      " [-4. -3. -2. -1.  0.  1.  2.  3.  4.]\n",
      " [-4. -3. -2. -1.  0.  1.  2.  3.  4.]\n",
      " [-4. -3. -2. -1.  0.  1.  2.  3.  4.]\n",
      " [-4. -3. -2. -1.  0.  1.  2.  3.  4.]\n",
      " [-4. -3. -2. -1.  0.  1.  2.  3.  4.]\n",
      " [-4. -3. -2. -1.  0.  1.  2.  3.  4.]\n",
      " [-4. -3. -2. -1.  0.  1.  2.  3.  4.]\n",
      " [-4. -3. -2. -1.  0.  1.  2.  3.  4.]\n",
      " [-4. -3. -2. -1.  0.  1.  2.  3.  4.]] \n",
      " \n",
      "meshgrid o y_1 : [[-5. -5. -5. -5. -5. -5. -5. -5. -5.]\n",
      " [-4. -4. -4. -4. -4. -4. -4. -4. -4.]\n",
      " [-3. -3. -3. -3. -3. -3. -3. -3. -3.]\n",
      " [-2. -2. -2. -2. -2. -2. -2. -2. -2.]\n",
      " [-1. -1. -1. -1. -1. -1. -1. -1. -1.]\n",
      " [ 0.  0.  0.  0.  0.  0.  0.  0.  0.]\n",
      " [ 1.  1.  1.  1.  1.  1.  1.  1.  1.]\n",
      " [ 2.  2.  2.  2.  2.  2.  2.  2.  2.]\n",
      " [ 3.  3.  3.  3.  3.  3.  3.  3.  3.]\n",
      " [ 4.  4.  4.  4.  4.  4.  4.  4.  4.]\n",
      " [ 5.  5.  5.  5.  5.  5.  5.  5.  5.]] \n",
      "\n"
     ]
    }
   ],
   "source": [
    "import numpy as np \n",
    "\n",
    "# Creation of array using linspace with length 9 & with starting and ending value (-4,4)\n",
    "x = np.linspace(-4,4,9)\n",
    "y = np.linspace(-5,5,11)\n",
    "x_1 , y_1 = np.meshgrid(x,y)\n",
    "print(f\"meshgrid of x_1 : {x_1} \\n \")\n",
    "print(f\"meshgrid o y_1 : {y_1} \\n\")"
   ]
  },
  {
   "cell_type": "code",
   "execution_count": 25,
   "id": "43215ffb",
   "metadata": {},
   "outputs": [
    {
     "name": "stderr",
     "output_type": "stream",
     "text": [
      "C:\\Users\\Lenovo\\AppData\\Local\\Temp\\ipykernel_22540\\86752041.py:1: RuntimeWarning: invalid value encountered in divide\n",
      "  z = np. sin(x_1**2 + y_1**2) / (x_1**2 + y_1**2)\n"
     ]
    },
    {
     "name": "stdout",
     "output_type": "stream",
     "text": [
      "[[-0.00386885  0.01556126 -0.02288393  0.02932917 -0.00529407  0.02932917\n",
      "  -0.02288393  0.01556126 -0.00386885]\n",
      " [ 0.01723208 -0.00529407  0.04564726 -0.05655279 -0.01799396 -0.05655279\n",
      "   0.04564726 -0.00529407  0.01723208]\n",
      " [-0.00529407 -0.04172151  0.03232054 -0.05440211  0.04579094 -0.05440211\n",
      "   0.03232054 -0.04172151 -0.00529407]\n",
      " [ 0.04564726  0.03232054  0.12366978 -0.19178485 -0.18920062 -0.19178485\n",
      "   0.12366978  0.03232054  0.04564726]\n",
      " [-0.05655279 -0.05440211 -0.19178485  0.45464871  0.84147098  0.45464871\n",
      "  -0.19178485 -0.05440211 -0.05655279]\n",
      " [-0.01799396  0.04579094 -0.18920062  0.84147098         nan  0.84147098\n",
      "  -0.18920062  0.04579094 -0.01799396]\n",
      " [-0.05655279 -0.05440211 -0.19178485  0.45464871  0.84147098  0.45464871\n",
      "  -0.19178485 -0.05440211 -0.05655279]\n",
      " [ 0.04564726  0.03232054  0.12366978 -0.19178485 -0.18920062 -0.19178485\n",
      "   0.12366978  0.03232054  0.04564726]\n",
      " [-0.00529407 -0.04172151  0.03232054 -0.05440211  0.04579094 -0.05440211\n",
      "   0.03232054 -0.04172151 -0.00529407]\n",
      " [ 0.01723208 -0.00529407  0.04564726 -0.05655279 -0.01799396 -0.05655279\n",
      "   0.04564726 -0.00529407  0.01723208]\n",
      " [-0.00386885  0.01556126 -0.02288393  0.02932917 -0.00529407  0.02932917\n",
      "  -0.02288393  0.01556126 -0.00386885]]\n"
     ]
    },
    {
     "data": {
      "image/png": "[encoded data removed]",
      "text/plain": [
       "<Figure size 640x480 with 1 Axes>"
      ]
     },
     "metadata": {},
     "output_type": "display_data"
    }
   ],
   "source": [
    "z = np. sin(x_1**2 + y_1**2) / (x_1**2 + y_1**2)\n",
    "print(z)\n",
    "h = plt. contourf(x,y,z)"
   ]
  },
  {
   "cell_type": "code",
   "execution_count": null,
   "id": "0ee49aa0",
   "metadata": {},
   "outputs": [],
   "source": []
  },
  {
   "cell_type": "code",
   "execution_count": null,
   "id": "f43cd9f6",
   "metadata": {},
   "outputs": [],
   "source": []
  },
  {
   "cell_type": "code",
   "execution_count": null,
   "id": "d7e4c584",
   "metadata": {},
   "outputs": [],
   "source": []
  }
 ],
 "metadata": {
  "kernelspec": {
   "display_name": "Python 3 (ipykernel)",
   "language": "python",
   "name": "python3"
  },
  "language_info": {
   "codemirror_mode": {
    "name": "ipython",
    "version": 3
   },
   "file_extension": ".py",
   "mimetype": "text/x-python",
   "name": "python",
   "nbconvert_exporter": "python",
   "pygments_lexer": "ipython3",
   "version": "3.9.7"
  }
 },
 "nbformat": 4,
 "nbformat_minor": 5
}
