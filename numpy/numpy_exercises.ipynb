{
 "cells": [
  {
   "cell_type": "code",
   "execution_count": 43,
   "id": "853e4b26",
   "metadata": {},
   "outputs": [
    {
     "name": "stdout",
     "output_type": "stream",
     "text": [
      "A: [ True  True  True  True]\n",
      "B: [ True  True False  True]\n",
      "C: [ True False False]\n"
     ]
    }
   ],
   "source": [
    "# 1. Question.\n",
    "# np.all --> checks all the element in the array is true otherwise returns false.\n",
    "# axis = 1 for Rows in the array.\n",
    "# axis = 0 for columns in the array.\n",
    "import numpy as np\n",
    "\n",
    "\n",
    "A = np.array([[3, 2, 1, 4],\n",
    "              [5, 2, 1, 6]])\n",
    "\n",
    "B = np.array([[3, 2, 1, 4],\n",
    "              [5, 2, 0, 6]])\n",
    "\n",
    "C = np.array([[True, False, False],\n",
    "              [True, True, True]])\n",
    "\n",
    "for i,j in zip(list('ABC'),[A,B,C]):\n",
    "    print(f\"{i}: {np.all(j,axis=0)}\")\n",
    "\n"
   ]
  },
  {
   "cell_type": "code",
   "execution_count": 55,
   "id": "92e39ec4",
   "metadata": {},
   "outputs": [
    {
     "name": "stdout",
     "output_type": "stream",
     "text": [
      "False\n",
      "True\n",
      "True\n",
      "True\n"
     ]
    }
   ],
   "source": [
    "# 2. Question\n",
    "# np.any  --> Tests any value one of the Value is true in the array otherwise returns false.\n",
    "# checking for both rows and columns.\n",
    "import numpy as np\n",
    "\n",
    "\n",
    "A = np.array([[0, 0, 0],\n",
    "              [0, 0, 0]])\n",
    "\n",
    "B = np.array([[0, 0, 0],\n",
    "              [0, 1, 0]])\n",
    "\n",
    "C = np.array([[False, False, False],\n",
    "              [True, False, False]])\n",
    "\n",
    "D = np.array([[0.1, 0.0]])\n",
    "\n",
    "for i,j in zip(list('ABCD'),[A,B,C,D]):\n",
    "    print(np.any(j))"
   ]
  },
  {
   "cell_type": "code",
   "execution_count": 58,
   "id": "50dd3c1c",
   "metadata": {},
   "outputs": [
    {
     "name": "stdout",
     "output_type": "stream",
     "text": [
      "A : [False False False]\n",
      "B : [False  True False]\n",
      "C : [ True False False]\n",
      "D : [ True False]\n"
     ]
    }
   ],
   "source": [
    "# 3.question \n",
    "# checking for column axis.\n",
    "import numpy as np\n",
    "\n",
    "\n",
    "A = np.array([[0, 0, 0],\n",
    "              [0, 0, 0]])\n",
    "\n",
    "B = np.array([[0, 0, 0],\n",
    "              [0, 1, 0]])\n",
    "\n",
    "C = np.array([[False, False, False],\n",
    "              [True, False, False]])\n",
    "\n",
    "D = np.array([[0.1, 0.0]])\n",
    "\n",
    "for i,j in zip(list('ABCD'),[A,B,C,D]):\n",
    "    print(f\"{i} : {np.any(j,axis=0)}\")"
   ]
  },
  {
   "cell_type": "code",
   "execution_count": 59,
   "id": "701f9fb6",
   "metadata": {},
   "outputs": [
    {
     "name": "stdout",
     "output_type": "stream",
     "text": [
      "[[False False False  True]\n",
      " [False  True False False]]\n"
     ]
    }
   ],
   "source": [
    "# 4. Question\n",
    "# checking the array contains any NAN value in it.\n",
    "A = np.array([[3, 2, 1, np.nan],\n",
    "              [5, np.nan, 1, 6]])\n",
    "print(np.isnan(A))"
   ]
  },
  {
   "cell_type": "code",
   "execution_count": 60,
   "id": "3f40f5fe",
   "metadata": {},
   "outputs": [
    {
     "name": "stdout",
     "output_type": "stream",
     "text": [
      "True\n"
     ]
    }
   ],
   "source": [
    "# 5. checking the two array's are equal using \n",
    "# np.allclose(<var1>,<var2>) return true if a==b or else false.\n",
    "A = np.array([0.4, 0.5, 0.3])\n",
    "B = np.array([0.39999999, 0.5000001, 0.3])\n",
    "\n",
    "print(np.allclose(A,B))"
   ]
  },
  {
   "cell_type": "code",
   "execution_count": 80,
   "id": "29112cc4",
   "metadata": {},
   "outputs": [
    {
     "name": "stdout",
     "output_type": "stream",
     "text": [
      "[False False  True]\n"
     ]
    }
   ],
   "source": [
    "# 6 Question \n",
    "# \"==\" compares the elements of the two different array and produces the list in the form of list.\n",
    "A = np.array([0.4, 0.5, 0.3])\n",
    "B = np.array([0.3999999999, 0.5000000001, 0.3])\n",
    "list_=[]\n",
    "# my solution with , separated. and this wrong don't do this \n",
    "# for i,j in zip(A,B):\n",
    "#     list_.append(i==j)\n",
    "# print(list_)\n",
    "\n",
    "# correct solution.\n",
    "print(A==B)"
   ]
  },
  {
   "cell_type": "code",
   "execution_count": 95,
   "id": "19fa22be",
   "metadata": {},
   "outputs": [
    {
     "name": "stdout",
     "output_type": "stream",
     "text": [
      "[ True False False False]\n",
      "[ True False False False]\n"
     ]
    }
   ],
   "source": [
    "# 7.Question checking array A is greater than array B.\n",
    "import numpy as np\n",
    "\n",
    "\n",
    "A = np.array([0.4, 0.5, 0.3, 0.9])\n",
    "B = np.array([0.38, 0.51, 0.3, 0.91])\n",
    "# my solution \n",
    "print(A>B)\n",
    "# given solution .\n",
    "print(np.greater(A, B))"
   ]
  },
  {
   "cell_type": "code",
   "execution_count": 116,
   "id": "76590fae",
   "metadata": {},
   "outputs": [
    {
     "name": "stdout",
     "output_type": "stream",
     "text": [
      "[[0 0 0 0]\n",
      " [0 0 0 0]\n",
      " [0 0 0 0]\n",
      " [0 0 0 0]]\n"
     ]
    }
   ],
   "source": [
    "# 8. Question\n",
    "# creation of 4x4 matrix which has all the elements has 0's\n",
    "# shape is used to define the order of the matrix.\n",
    "# np.zeros() is used to create 0's in all the places of the elements\n",
    "print(np.zeros(shape=(4,4),dtype='int'))"
   ]
  },
  {
   "cell_type": "code",
   "execution_count": 122,
   "id": "c1511434",
   "metadata": {},
   "outputs": [
    {
     "name": "stdout",
     "output_type": "stream",
     "text": [
      "[[255. 255. 255. 255. 255. 255. 255. 255. 255. 255.]\n",
      " [255. 255. 255. 255. 255. 255. 255. 255. 255. 255.]\n",
      " [255. 255. 255. 255. 255. 255. 255. 255. 255. 255.]\n",
      " [255. 255. 255. 255. 255. 255. 255. 255. 255. 255.]\n",
      " [255. 255. 255. 255. 255. 255. 255. 255. 255. 255.]\n",
      " [255. 255. 255. 255. 255. 255. 255. 255. 255. 255.]\n",
      " [255. 255. 255. 255. 255. 255. 255. 255. 255. 255.]\n",
      " [255. 255. 255. 255. 255. 255. 255. 255. 255. 255.]\n",
      " [255. 255. 255. 255. 255. 255. 255. 255. 255. 255.]\n",
      " [255. 255. 255. 255. 255. 255. 255. 255. 255. 255.]]\n",
      "[[255. 255. 255. 255. 255. 255. 255. 255. 255. 255.]\n",
      " [255. 255. 255. 255. 255. 255. 255. 255. 255. 255.]\n",
      " [255. 255. 255. 255. 255. 255. 255. 255. 255. 255.]\n",
      " [255. 255. 255. 255. 255. 255. 255. 255. 255. 255.]\n",
      " [255. 255. 255. 255. 255. 255. 255. 255. 255. 255.]\n",
      " [255. 255. 255. 255. 255. 255. 255. 255. 255. 255.]\n",
      " [255. 255. 255. 255. 255. 255. 255. 255. 255. 255.]\n",
      " [255. 255. 255. 255. 255. 255. 255. 255. 255. 255.]\n",
      " [255. 255. 255. 255. 255. 255. 255. 255. 255. 255.]\n",
      " [255. 255. 255. 255. 255. 255. 255. 255. 255. 255.]]\n"
     ]
    }
   ],
   "source": [
    "# 10.Question\n",
    "# creation of an array with same element.\n",
    "# np.full() --> is used to apply the same element to all the position in the matrix.\n",
    "# it has the element called fill_value --> used to assign the value which we are going \n",
    "#to fill in the matrix.\n",
    "\n",
    "\n",
    "###           MY SOLUTION         ###\n",
    "print(np.full(shape=(10,10),dtype='float',fill_value=255))\n",
    "\n",
    "###          GIVEN SOLUTION       ###\n",
    "# making a matrix with all one's \n",
    "# then multilying with the value you want fill.\n",
    "print(np.ones(shape=(10,10),dtype='float')*255.)"
   ]
  },
  {
   "cell_type": "code",
   "execution_count": 125,
   "id": "69bcf05b",
   "metadata": {},
   "outputs": [
    {
     "name": "stdout",
     "output_type": "stream",
     "text": [
      "[[10 11 12 13 14 15 16 17 18 19]\n",
      " [20 21 22 23 24 25 26 27 28 29]\n",
      " [30 31 32 33 34 35 36 37 38 39]\n",
      " [40 41 42 43 44 45 46 47 48 49]\n",
      " [50 51 52 53 54 55 56 57 58 59]\n",
      " [60 61 62 63 64 65 66 67 68 69]\n",
      " [70 71 72 73 74 75 76 77 78 79]\n",
      " [80 81 82 83 84 85 86 87 88 89]\n",
      " [90 91 92 93 94 95 96 97 98 99]]\n"
     ]
    }
   ],
   "source": [
    "import numpy as np\n",
    "\n",
    "a = np.arange(10,100).reshape(9,10)\n",
    "\n",
    "print(a)"
   ]
  },
  {
   "cell_type": "code",
   "execution_count": null,
   "id": "cb2603be",
   "metadata": {},
   "outputs": [],
   "source": []
  }
 ],
 "metadata": {
  "kernelspec": {
   "display_name": "Python 3 (ipykernel)",
   "language": "python",
   "name": "python3"
  },
  "language_info": {
   "codemirror_mode": {
    "name": "ipython",
    "version": 3
   },
   "file_extension": ".py",
   "mimetype": "text/x-python",
   "name": "python",
   "nbconvert_exporter": "python",
   "pygments_lexer": "ipython3",
   "version": "3.9.7"
  }
 },
 "nbformat": 4,
 "nbformat_minor": 5
}
