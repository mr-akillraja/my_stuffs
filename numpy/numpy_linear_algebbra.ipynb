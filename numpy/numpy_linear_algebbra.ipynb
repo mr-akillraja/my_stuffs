{
 "cells": [
  {
   "cell_type": "code",
   "execution_count": 8,
   "id": "577bae1e",
   "metadata": {},
   "outputs": [
    {
     "name": "stdout",
     "output_type": "stream",
     "text": [
      "the array is : [[12  4  4]\n",
      " [ 2  3  4]\n",
      " [ 1  4  6]]\n",
      "the determinant of the array a is :  12.000000000000027\n"
     ]
    }
   ],
   "source": [
    "#finding the determinant of the array \n",
    "import numpy as np\n",
    "\n",
    "a=np.array([[12,4,4],[2,3,4],[1,4,6]])\n",
    "print(\"the array is :\",a)\n",
    "\n",
    "#using the linalg.det funtion to find the determinant of the array a.\n",
    "\n",
    "b=np.linalg.det(a)\n",
    "print(\"the determinant of the array a is : \",b)"
   ]
  },
  {
   "cell_type": "code",
   "execution_count": 12,
   "id": "e8b70f46",
   "metadata": {},
   "outputs": [
    {
     "name": "stdout",
     "output_type": "stream",
     "text": [
      "the array is : [[12  4  4]\n",
      " [ 2  3  4]\n",
      " [12  3  4]]\n",
      "the inverse of the array a is :  [[ 0.00000000e+00 -1.00000000e-01  1.00000000e-01]\n",
      " [ 1.00000000e+00 -3.17206578e-18 -1.00000000e+00]\n",
      " [-7.50000000e-01  3.00000000e-01  7.00000000e-01]]\n"
     ]
    }
   ],
   "source": [
    "#finding the inverse of the array \n",
    "import numpy as np\n",
    "\n",
    "a=np.array([[12,4,4],[2,3,4],[12,3,4]])\n",
    "print(\"the array is :\",a)\n",
    "\n",
    "#using linalg.inv function to find the inverse of the array a.\n",
    "\n",
    "b=np.linalg.inv(a)\n",
    "print(\"the inverse of the array a is : \",b)"
   ]
  },
  {
   "cell_type": "code",
   "execution_count": 16,
   "id": "1d0ba6b3",
   "metadata": {},
   "outputs": [
    {
     "name": "stdout",
     "output_type": "stream",
     "text": [
      "the array is : [[12  4  4]\n",
      " [ 2  3  4]\n",
      " [ 1  4  6]]\n",
      "the norms of the array is :  [13.26649916  5.38516481  7.28010989]\n"
     ]
    }
   ],
   "source": [
    "#finding the norms \n",
    "import numpy as np\n",
    "\n",
    "a=np.array([[12,4,4],[2,3,4],[1,4,6]])\n",
    "print(\"the array is :\",a)\n",
    "\n",
    "#using linalg.norm to find the norm of the array a\n",
    "\n",
    "b=np.linalg.norm(a,axis=1)\n",
    "print(\"the norms of the array is : \",b)"
   ]
  },
  {
   "cell_type": "code",
   "execution_count": null,
   "id": "fadfc51b",
   "metadata": {},
   "outputs": [],
   "source": [
    "#for further details in linear algebra use this link\n",
    "#-->> \"\"https://numpy.org/doc/stable/reference/routines.linalg.html\"\" <<--\n"
   ]
  }
 ],
 "metadata": {
  "kernelspec": {
   "display_name": "Python 3 (ipykernel)",
   "language": "python",
   "name": "python3"
  },
  "language_info": {
   "codemirror_mode": {
    "name": "ipython",
    "version": 3
   },
   "file_extension": ".py",
   "mimetype": "text/x-python",
   "name": "python",
   "nbconvert_exporter": "python",
   "pygments_lexer": "ipython3",
   "version": "3.9.7"
  }
 },
 "nbformat": 4,
 "nbformat_minor": 5
}
