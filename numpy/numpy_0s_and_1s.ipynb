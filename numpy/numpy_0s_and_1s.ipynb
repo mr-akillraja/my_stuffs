{
 "cells": [
  {
   "cell_type": "code",
   "execution_count": 20,
   "id": "0ececf84",
   "metadata": {},
   "outputs": [
    {
     "name": "stdout",
     "output_type": "stream",
     "text": [
      "the original array is :\n",
      "[ 0  1  2  3  4  5  6  7  8  9 10 11 12 13 14 15]\n",
      "the modified array is :\n",
      "[[ 0  1  2  3]\n",
      " [ 4  5  6  7]\n",
      " [ 8  9 10 11]\n",
      " [12 13 14 15]]\n"
     ]
    }
   ],
   "source": [
    "#converting single array into multi-array\n",
    "import numpy as np\n",
    "\n",
    "\n",
    "a=np.arange(16)\n",
    "print(\"the original array is :\")\n",
    "print(a)\n",
    "\n",
    "b=a.reshape((4,4))\n",
    "print(\"the modified array is :\")\n",
    "print(b)"
   ]
  },
  {
   "cell_type": "code",
   "execution_count": 24,
   "id": "9956984b",
   "metadata": {},
   "outputs": [
    {
     "name": "stdout",
     "output_type": "stream",
     "text": [
      "the original array is :\n",
      "[ 0  1  2  3  4  5  6  7  8  9 10 11 12 13 14 15]\n",
      "the modified array is :\n",
      "[[ 0  1  2  3]\n",
      " [ 4  5  6  7]\n",
      " [ 8  9 10 11]\n",
      " [12 13 14 15]]\n",
      "the original array is back to form:\n",
      "[ 0  1  2  3  4  5  6  7  8  9 10 11 12 13 14 15]\n"
     ]
    }
   ],
   "source": [
    "#converting multi-array into single array\n",
    "import numpy as np\n",
    "\n",
    "\n",
    "a=np.arange(16)\n",
    "print(\"the original array is :\")\n",
    "print(a)\n",
    "\n",
    "b=a.reshape((4,4))\n",
    "print(\"the modified array is :\")\n",
    "print(b)\n",
    "\n",
    "c=b.flatten()\n",
    "print(\"the original array is back to form:\")\n",
    "print(c)"
   ]
  },
  {
   "cell_type": "code",
   "execution_count": null,
   "id": "7759a75a",
   "metadata": {},
   "outputs": [],
   "source": []
  }
 ],
 "metadata": {
  "kernelspec": {
   "display_name": "Python 3 (ipykernel)",
   "language": "python",
   "name": "python3"
  },
  "language_info": {
   "codemirror_mode": {
    "name": "ipython",
    "version": 3
   },
   "file_extension": ".py",
   "mimetype": "text/x-python",
   "name": "python",
   "nbconvert_exporter": "python",
   "pygments_lexer": "ipython3",
   "version": "3.9.7"
  }
 },
 "nbformat": 4,
 "nbformat_minor": 5
}
