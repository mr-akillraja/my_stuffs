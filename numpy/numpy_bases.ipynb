{
 "cells": [
  {
   "cell_type": "code",
   "execution_count": 20,
   "id": "9fe30fa0",
   "metadata": {},
   "outputs": [
    {
     "name": "stdout",
     "output_type": "stream",
     "text": [
      "the original array is :\n",
      "[ 0  1  2  3  4  5  6  7  8  9 10 11 12 13 14 15]\n",
      "the modified array is :\n",
      "[[ 0  1  2  3]\n",
      " [ 4  5  6  7]\n",
      " [ 8  9 10 11]\n",
      " [12 13 14 15]]\n"
     ]
    }
   ],
   "source": [
    "#converting single array into multi-array\n",
    "import numpy as np\n",
    "\n",
    "\n",
    "a=np.arange(16)\n",
    "print(\"the original array is :\")\n",
    "print(a)\n",
    "\n",
    "b=a.reshape((4,4))\n",
    "print(\"the modified array is :\")\n",
    "print(b)"
   ]
  },
  {
   "cell_type": "code",
   "execution_count": 35,
   "id": "04d01759",
   "metadata": {},
   "outputs": [
    {
     "name": "stdout",
     "output_type": "stream",
     "text": [
      "the original array is :\n",
      "[0 1 2 3 4 5 6 7 8]\n",
      "the modified array is :\n",
      "[[0 1 2]\n",
      " [3 4 5]\n",
      " [6 7 8]]\n",
      "the original array is back to form:\n",
      "[0 1 2 3 4 5 6 7 8]\n",
      "the accessing the elements in a order :\n",
      "the modifed array is :  [[0 1 2]\n",
      " [3 4 5]\n",
      " [6 7 8]]\n",
      "[0 3 6 1 4 7 2 5 8]\n"
     ]
    }
   ],
   "source": [
    "#converting multi-array into single array\n",
    "import numpy as np\n",
    "\n",
    "#getting the range\n",
    "a=np.arange(9)\n",
    "print(\"the original array is :\")\n",
    "print(a)\n",
    "\n",
    "#reshaping the range array into a matrix form\n",
    "b=a.reshape((3,3))\n",
    "print(\"the modified array is :\")\n",
    "print(b)\n",
    "\n",
    "#back to single array \n",
    "c=b.flatten()\n",
    "print(\"the original array is back to form:\")\n",
    "print(c)\n",
    "\n",
    "#single array format by accessing the flatten in column-major\n",
    "d=b.flatten(order='f')\n",
    "print(\"the accessing the elements in a order :\")\n",
    "print(\"the modifed array is : \",b)\n",
    "print(d)"
   ]
  },
  {
   "cell_type": "code",
   "execution_count": 42,
   "id": "30460378",
   "metadata": {},
   "outputs": [
    {
     "name": "stdout",
     "output_type": "stream",
     "text": [
      "[[ 0  1  2  3]\n",
      " [ 4  5  6  7]\n",
      " [ 8  9 10 11]]\n",
      "the transpose of arrar  A : \n",
      "[[ 0  4  8]\n",
      " [ 1  5  9]\n",
      " [ 2  6 10]\n",
      " [ 3  7 11]]\n"
     ]
    }
   ],
   "source": [
    "#transpose of the array \n",
    "import numpy as np\n",
    "\n",
    "\n",
    "a=np.arange(12).reshape(3,4)\n",
    "print(a)\n",
    "print(\"the transpose of arrar  A : \")\n",
    "b=np.transpose(a)\n",
    "print(b)\n",
    "c=np.rollaxis(b,2,3)\n",
    "print(c)\n"
   ]
  },
  {
   "cell_type": "code",
   "execution_count": null,
   "id": "506dafa9",
   "metadata": {},
   "outputs": [],
   "source": []
  }
 ],
 "metadata": {
  "kernelspec": {
   "display_name": "Python 3 (ipykernel)",
   "language": "python",
   "name": "python3"
  },
  "language_info": {
   "codemirror_mode": {
    "name": "ipython",
    "version": 3
   },
   "file_extension": ".py",
   "mimetype": "text/x-python",
   "name": "python",
   "nbconvert_exporter": "python",
   "pygments_lexer": "ipython3",
   "version": "3.9.7"
  }
 },
 "nbformat": 4,
 "nbformat_minor": 5
}
