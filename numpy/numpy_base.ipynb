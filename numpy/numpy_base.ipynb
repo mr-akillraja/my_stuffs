{
 "cells": [
  {
   "cell_type": "code",
   "execution_count": 50,
   "id": "9fe30fa0",
   "metadata": {},
   "outputs": [
    {
     "name": "stdout",
     "output_type": "stream",
     "text": [
      "the original array is :\n",
      "[ 0  2  4  6  8 10 12 14]\n"
     ]
    }
   ],
   "source": [
    "#arange funtion \n",
    "import numpy as np\n",
    "\n",
    "#arange function (starting,ending,increment)\n",
    "a=np.arange(0,16,2)\n",
    "print(\"the original array is :\")\n",
    "print(a)\n",
    "\n"
   ]
  },
  {
   "cell_type": "code",
   "execution_count": 79,
   "id": "8dab948f",
   "metadata": {},
   "outputs": [
    {
     "name": "stdout",
     "output_type": "stream",
     "text": [
      "the original array is :\n",
      "[ 0  1  2  3  4  5  6  7  8  9 10 11 12 13 14 15]\n",
      "the modified array is :\n",
      "[[ 0  1  2  3]\n",
      " [ 4  5  6  7]\n",
      " [ 8  9 10 11]\n",
      " [12 13 14 15]]\n"
     ]
    }
   ],
   "source": [
    "#converting single array into multi-array\n",
    "import numpy as np\n",
    "\n",
    "#arange function as a (starting,ending,increment)\n",
    "a=np.arange(16)\n",
    "print(\"the original array is :\")\n",
    "print(a)\n",
    "\n",
    "b=a.reshape((4,4))\n",
    "print(\"the modified array is :\")\n",
    "print(b)"
   ]
  },
  {
   "cell_type": "code",
   "execution_count": 35,
   "id": "04d01759",
   "metadata": {},
   "outputs": [
    {
     "name": "stdout",
     "output_type": "stream",
     "text": [
      "the original array is :\n",
      "[0 1 2 3 4 5 6 7 8]\n",
      "the modified array is :\n",
      "[[0 1 2]\n",
      " [3 4 5]\n",
      " [6 7 8]]\n",
      "the original array is back to form:\n",
      "[0 1 2 3 4 5 6 7 8]\n",
      "the accessing the elements in a order :\n",
      "the modifed array is :  [[0 1 2]\n",
      " [3 4 5]\n",
      " [6 7 8]]\n",
      "[0 3 6 1 4 7 2 5 8]\n"
     ]
    }
   ],
   "source": [
    "#converting multi-array into single array\n",
    "import numpy as np\n",
    "\n",
    "#getting the range\n",
    "a=np.arange(9)\n",
    "print(\"the original array is :\")\n",
    "print(a)\n",
    "\n",
    "#reshaping the range array into a matrix form\n",
    "b=a.reshape((3,3))\n",
    "print(\"the modified array is :\")\n",
    "print(b)\n",
    "\n",
    "#back to single array \n",
    "c=b.flatten()\n",
    "print(\"the original array is back to form:\")\n",
    "print(c)\n",
    "\n",
    "#single array format by accessing the flatten in column-major\n",
    "d=b.flatten(order='f')\n",
    "print(\"the accessing the elements in a order :\")\n",
    "print(\"the modifed array is : \",b)\n",
    "print(d)"
   ]
  },
  {
   "cell_type": "code",
   "execution_count": 15,
   "id": "30460378",
   "metadata": {},
   "outputs": [
    {
     "name": "stdout",
     "output_type": "stream",
     "text": [
      "[[ 0  1  2  3]\n",
      " [ 4  5  6  7]\n",
      " [ 8  9 10 11]]\n",
      "the transpose of arrar  A : \n",
      "[[ 0  4  8]\n",
      " [ 1  5  9]\n",
      " [ 2  6 10]\n",
      " [ 3  7 11]]\n"
     ]
    }
   ],
   "source": [
    "#transpose of the array \n",
    "import numpy as np\n",
    "\n",
    "\n",
    "a=np.arange(12).reshape(3,4)\n",
    "print(a)\n",
    "print(\"the transpose of arrar  A : \")\n",
    "b=np.transpose(a)\n",
    "print(b)\n",
    "\n"
   ]
  },
  {
   "cell_type": "code",
   "execution_count": 39,
   "id": "506dafa9",
   "metadata": {},
   "outputs": [
    {
     "name": "stdout",
     "output_type": "stream",
     "text": [
      "[ 0  1  2  3  4  5  6  7  8  9 10 11 12 13 14 15]\n",
      "[[ 0  1  2  3]\n",
      " [ 4  5  6  7]\n",
      " [ 8  9 10 11]\n",
      " [12 13 14 15]]\n",
      "[ 0  1  2  3  4  5  6  7  8  9 10 11 12 13 14 15]\n",
      "[ 0  1  2  3  4  5  6  7  8  9 10 11 12 13 14 15]\n",
      "[[ 0  4  8 12]\n",
      " [ 1  5  9 13]\n",
      " [ 2  6 10 14]\n",
      " [ 3  7 11 15]]\n"
     ]
    }
   ],
   "source": [
    "import numpy as  np\n",
    "\n",
    "a=np.arange(16)\n",
    "b=a.reshape((4,4))\n",
    "\n",
    "print(a)\n",
    "print(b)\n",
    "print(b.flatten())\n",
    "print(b.flatten(order='k'))\n",
    "print(np.transpose(b))\n"
   ]
  },
  {
   "cell_type": "code",
   "execution_count": 92,
   "id": "fe19b37b",
   "metadata": {},
   "outputs": [
    {
     "name": "stdout",
     "output_type": "stream",
     "text": [
      "(1, 3, 4, 5, 2, 6)\n"
     ]
    }
   ],
   "source": [
    "import numpy as np\n",
    "\n",
    "a=np.arange(720).reshape(1,2,3,4,5,6)\n",
    "b=np.rollaxis(a,1,5)\n",
    "print(b.shape)"
   ]
  },
  {
   "cell_type": "code",
   "execution_count": 110,
   "id": "62eecae1",
   "metadata": {},
   "outputs": [
    {
     "name": "stdout",
     "output_type": "stream",
     "text": [
      "[[ 337  352  163]\n",
      " [ 120 2959   80]\n",
      " [ 468 3076  256]]\n"
     ]
    }
   ],
   "source": [
    "#multiplying the arrays using dot function\n",
    "import numpy as np\n",
    "\n",
    "a=([1,24,4],[12,4,5],[12,34,4])\n",
    "b=([1,244,3],[12,4,6],[12,3,4])\n",
    "c=np.dot(a,b)\n",
    "print(c)"
   ]
  },
  {
   "cell_type": "code",
   "execution_count": 130,
   "id": "0cd54baa",
   "metadata": {},
   "outputs": [
    {
     "name": "stdout",
     "output_type": "stream",
     "text": [
      "[[[[ 0  1]\n",
      "   [ 2  3]]\n",
      "\n",
      "  [[ 4  5]\n",
      "   [ 6  7]]]\n",
      "\n",
      "\n",
      " [[[ 8  9]\n",
      "   [10 11]]\n",
      "\n",
      "  [[12 13]\n",
      "   [14 15]]]]\n",
      "(2, 2, 2, 2)\n",
      "[[[[ 0  1]\n",
      "   [ 4  5]]\n",
      "\n",
      "  [[ 2  3]\n",
      "   [ 6  7]]]\n",
      "\n",
      "\n",
      " [[[ 8  9]\n",
      "   [12 13]]\n",
      "\n",
      "  [[10 11]\n",
      "   [14 15]]]]\n"
     ]
    }
   ],
   "source": [
    "import numpy as np\n",
    "\n",
    "\n",
    "a=np.arange(16).reshape((2,2,2,2))\n",
    "print(a)\n",
    "print(a.shape)\n",
    "c=np.rollaxis(a,2,1)\n",
    "print(c)"
   ]
  },
  {
   "cell_type": "code",
   "execution_count": 137,
   "id": "e474c69f",
   "metadata": {},
   "outputs": [
    {
     "name": "stdout",
     "output_type": "stream",
     "text": [
      "[13 25  7]\n",
      "[11 21  1]\n",
      "[12 46 12]\n",
      "[12.         11.5         1.33333333]\n"
     ]
    }
   ],
   "source": [
    "#arthimetic operations\n",
    "\n",
    "import numpy as np\n",
    "\n",
    "a=([12,23,4])\n",
    "b=([1,2,3])\n",
    "#addition\n",
    "c=np.add(a,b)\n",
    "print(c)\n",
    "#subtraction\n",
    "c=np.subtract(a,b)\n",
    "print(c)\n",
    "#multiply \n",
    "c=np.multiply(a,b)\n",
    "print(c)\n",
    "#divide\n",
    "c=np.divide(a,b)\n",
    "print(c)"
   ]
  },
  {
   "cell_type": "code",
   "execution_count": 142,
   "id": "20358b6f",
   "metadata": {},
   "outputs": [
    {
     "name": "stdout",
     "output_type": "stream",
     "text": [
      "[0 1 2 3 4]\n",
      "1\n",
      "[1]\n"
     ]
    }
   ],
   "source": [
    "#silicing the arrays\n",
    "import numpy as np\n",
    "\n",
    "n=np.arange(5)\n",
    "print(n)\n",
    "print(n[1])\n",
    "#using the slice function\n",
    "s=slice(1,2,3)\n",
    "print(n[s])\n",
    "\n"
   ]
  },
  {
   "cell_type": "code",
   "execution_count": 145,
   "id": "884cfffe",
   "metadata": {},
   "outputs": [
    {
     "name": "stdout",
     "output_type": "stream",
     "text": [
      "[[ 5 10]\n",
      " [15 20]\n",
      " [25 30]\n",
      " [35 40]]\n"
     ]
    }
   ],
   "source": [
    "#iteration over array and reshaping it\n",
    "import numpy as np\n",
    "a=np.arange(5,45,5)\n",
    "print(a.reshape(4,2))\n"
   ]
  },
  {
   "cell_type": "code",
   "execution_count": 158,
   "id": "5708dad7",
   "metadata": {},
   "outputs": [
    {
     "name": "stdout",
     "output_type": "stream",
     "text": [
      "[ 0  5 10 15 20 25 30 35 40]\n",
      "[[ 0  5 10]\n",
      " [15 20 25]\n",
      " [30 35 40]]\n",
      "0\n",
      "5\n",
      "10\n",
      "15\n",
      "20\n",
      "25\n",
      "30\n",
      "35\n",
      "40\n",
      "for C : \n",
      "0\n",
      "5\n",
      "10\n",
      "15\n",
      "20\n",
      "25\n",
      "30\n",
      "35\n",
      "40\n"
     ]
    }
   ],
   "source": [
    "#arranging the arrays using the c and f models\n",
    "\n",
    "import numpy as np\n",
    "\n",
    "a=np.arange(0,45,5)\n",
    "print(a)\n",
    "print(a.reshape(3,3)) \n",
    "\n",
    "\n",
    "\n",
    "for i in np.nditer(a,order='f'):\n",
    "    print(i)\n",
    "\n",
    "print(\"for C : \")\n",
    "for i in np.nditer(a,order='c'):\n",
    "    print(i)"
   ]
  },
  {
   "cell_type": "code",
   "execution_count": null,
   "id": "449f8f7c",
   "metadata": {},
   "outputs": [],
   "source": []
  },
  {
   "cell_type": "code",
   "execution_count": 169,
   "id": "757b5d14",
   "metadata": {},
   "outputs": [
    {
     "name": "stdout",
     "output_type": "stream",
     "text": [
      "first array :\n",
      "[[ 1  2  3  4]\n",
      " [12  3  4  5]]\n",
      "second array :\n",
      "[[2 3 4 5]\n",
      " [2 3 4 5]]\n",
      "concatenation of two arrays :\n",
      "[[ 1  2  3  4]\n",
      " [12  3  4  5]\n",
      " [ 2  3  4  5]\n",
      " [ 2  3  4  5]]\n",
      "joining the two arrays along axis 0 :\n",
      "[[ 1  2  3  4  2  3  4  5]\n",
      " [12  3  4  5  2  3  4  5]]\n"
     ]
    }
   ],
   "source": [
    "#concatenation of two arrays \n",
    "import numpy as np\n",
    "\n",
    "print(\"first array :\")\n",
    "a=np.array([[1,2,3,4],[12,3,4,5]])\n",
    "print(a)\n",
    "print(\"second array :\")\n",
    "b=np.array([[2,3,4,5],[2,3,4,5]])\n",
    "print(b)\n",
    "print(\"concatenation of two arrays :\")\n",
    "d=np.concatenate((a,b))\n",
    "print(d)\n",
    "\n",
    "#concatenation using the axis \n",
    "print(\"joining the two arrays along axis 0 :\")\n",
    "print(np.concatenate((a,b),axis=1))"
   ]
  },
  {
   "cell_type": "code",
   "execution_count": 176,
   "id": "967f6e7c",
   "metadata": {},
   "outputs": [
    {
     "name": "stdout",
     "output_type": "stream",
     "text": [
      "[array([0, 1, 2]), array([3, 4]), array([5, 6, 7, 8, 9])]\n"
     ]
    }
   ],
   "source": [
    "#splitting the arrays using split()\n",
    "import numpy as np\n",
    "\n",
    "a=np.arange(10)\n",
    "print(np.split(a,[3,5]))\n"
   ]
  },
  {
   "cell_type": "code",
   "execution_count": 18,
   "id": "21a15da2",
   "metadata": {},
   "outputs": [
    {
     "name": "stdout",
     "output_type": "stream",
     "text": [
      "[  0.  25.  50.  75. 100.]\n"
     ]
    }
   ],
   "source": [
    "#divinding the given array into equal number of parts.\n",
    "import numpy as np\n",
    "\n",
    "a=np.linspace(0,100,5)\n",
    "print(a)"
   ]
  },
  {
   "cell_type": "code",
   "execution_count": 20,
   "id": "4ed16b3e",
   "metadata": {},
   "outputs": [
    {
     "name": "stdout",
     "output_type": "stream",
     "text": [
      "[[ 1  2  3]\n",
      " [ 4  2  3]\n",
      " [ 4  5  2]\n",
      " [ 4 55  4]]\n"
     ]
    }
   ],
   "source": [
    "#resizing the array \n",
    "import numpy as np\n",
    "\n",
    "array1=np.array([[1,2,3,4],[2,3,4,5],[2,4,55,4]])\n",
    "resized_array=np.resize(array1,(4,3))\n",
    "print(resized_array)\n"
   ]
  },
  {
   "cell_type": "code",
   "execution_count": 11,
   "id": "ac301844",
   "metadata": {},
   "outputs": [
    {
     "name": "stdout",
     "output_type": "stream",
     "text": [
      "[[ 1 22 15 45]\n",
      " [30 48  5  5]]\n"
     ]
    },
    {
     "data": {
      "image/png": "[encoded data removed]",
      "text/plain": [
       "<Figure size 432x288 with 1 Axes>"
      ]
     },
     "metadata": {
      "needs_background": "light"
     },
     "output_type": "display_data"
    }
   ],
   "source": [
    "#plotting the arrays using matplotlib\n",
    "from matplotlib import pyplot as plt\n",
    "import numpy as np\n",
    "\n",
    "a=np.array([[1,22,15,45],[30,48,5,5]])\n",
    "print(a)\n",
    "#plotting the array using hist function\n",
    "b=plt.hist(a,bins=[0,10,20,30,40,50])\n",
    "plt.title(\"histogram\")\n",
    "plt.show()"
   ]
  },
  {
   "cell_type": "code",
   "execution_count": 30,
   "id": "2f086632",
   "metadata": {},
   "outputs": [
    {
     "name": "stdout",
     "output_type": "stream",
     "text": [
      "the original array is : [[ 1  2  3]\n",
      " [ 4  5  6]\n",
      " [ 5 23  4]]\n",
      "the sum of arrays is from using columns :  [10 30 13]\n",
      "the sum of arrays is from using rows :  [ 6 15 32]\n"
     ]
    }
   ],
   "source": [
    "#sumation of an array using sum with the function axis\n",
    "#there are only two axis which are :'0>> column and 1>>rows'\n",
    "import numpy as np\n",
    "\n",
    "a=np.array([[1,2,3],[4,5,6],[5,23,4]])\n",
    "print(\"the original array is :\",a)\n",
    "b=a.sum(axis=0)\n",
    "c=a.sum(axis=1)\n",
    "print(\"the sum of arrays is from using columns : \",b)\n",
    "print(\"the sum of arrays is from using rows : \",c)"
   ]
  },
  {
   "cell_type": "code",
   "execution_count": 35,
   "id": "ff13d45d",
   "metadata": {},
   "outputs": [
    {
     "name": "stdout",
     "output_type": "stream",
     "text": [
      "[[ 4.  6.  7.]\n",
      " [12.  6.  7.]]\n"
     ]
    }
   ],
   "source": [
    "#getting the square root of the array elememts\n",
    "import numpy as np\n",
    "\n",
    "a=np.array([[16,36,49],[144,36,49]])\n",
    "b=np.sqrt(a)\n",
    "print(b)"
   ]
  },
  {
   "cell_type": "code",
   "execution_count": 38,
   "id": "5184d16f",
   "metadata": {},
   "outputs": [
    {
     "name": "stdout",
     "output_type": "stream",
     "text": [
      "[[ 16  36  49]\n",
      " [144  36  49]]\n",
      "41.30375285612676\n"
     ]
    }
   ],
   "source": [
    "#calculating  the STANDARD DEVIATION for the array\n",
    "#STANDARD DEVIATION FORMULA refer to :\"https://www.cuemath.com/data/standard-deviation/\"\n",
    "\n",
    "\n",
    "import numpy as np\n",
    "\n",
    "a=np.array([[16,36,49],[144,36,49]])\n",
    "print(a)\n",
    "b=np.std(a)\n",
    "print(b)"
   ]
  },
  {
   "cell_type": "code",
   "execution_count": 42,
   "id": "44be1f48",
   "metadata": {},
   "outputs": [
    {
     "name": "stdout",
     "output_type": "stream",
     "text": [
      "[12  2 23  3  4  4]\n"
     ]
    }
   ],
   "source": [
    "#ravel \"\"functions returns contiguous flattened array\"\"\n",
    "                   #\">>>NOTE>>>\"\"\n",
    "#C Is Contiguous layout. Mathematically speaking, row major.\n",
    "#F Is Fortran contiguous layout. Mathematically speaking, column major.\n",
    "#A Is any order. Generally don't use this.\n",
    "#K Is keep order. Generally don't use this.\n",
    "\n",
    "import numpy as np\n",
    "\n",
    "a=np.array([[12,23,4],[2,3,4]])\n",
    "print(a.ravel(order='f'))"
   ]
  },
  {
   "cell_type": "code",
   "execution_count": 46,
   "id": "64757c10",
   "metadata": {},
   "outputs": [
    {
     "name": "stdout",
     "output_type": "stream",
     "text": [
      "using with log 10 base : [[0.         0.30103    0.47712125]\n",
      " [0.60205999 0.69897    0.77815125]]\n",
      "using with log : [[0.         0.69314718 1.09861229]\n",
      " [1.38629436 1.60943791 1.79175947]]\n"
     ]
    }
   ],
   "source": [
    "#calculating the logarithmic values in the array.\n",
    "import numpy as np\n",
    "\n",
    "a=np.array([[1,2,3],[4,5,6]])\n",
    "#using the log with base 10\n",
    "b=np.log10(a)\n",
    "#using the general log\n",
    "c=np.log(a)\n",
    "print(\"using with log 10 base :\",b)\n",
    "print(\"using with log :\",c)"
   ]
  },
  {
   "cell_type": "code",
   "execution_count": 55,
   "id": "a9e16622",
   "metadata": {},
   "outputs": [
    {
     "name": "stdout",
     "output_type": "stream",
     "text": [
      "the array is : [0.  0.1 0.2 0.3 0.4 0.5 0.6 0.7 0.8 0.9 1.  1.1 1.2 1.3 1.4 1.5 1.6 1.7\n",
      " 1.8 1.9 2.  2.1 2.2 2.3 2.4 2.5 2.6 2.7 2.8 2.9 3.  3.1 3.2 3.3 3.4 3.5\n",
      " 3.6 3.7 3.8 3.9 4.  4.1 4.2 4.3 4.4 4.5 4.6 4.7 4.8 4.9 5.  5.1 5.2 5.3\n",
      " 5.4 5.5 5.6 5.7 5.8 5.9 6.  6.1 6.2 6.3 6.4 6.5 6.6 6.7 6.8 6.9 7.  7.1\n",
      " 7.2 7.3 7.4 7.5 7.6 7.7 7.8 7.9 8.  8.1 8.2 8.3 8.4 8.5 8.6 8.7 8.8 8.9\n",
      " 9.  9.1 9.2 9.3 9.4]\n",
      "the sin array is : [ 0.          0.09983342  0.19866933  0.29552021  0.38941834  0.47942554\n",
      "  0.56464247  0.64421769  0.71735609  0.78332691  0.84147098  0.89120736\n",
      "  0.93203909  0.96355819  0.98544973  0.99749499  0.9995736   0.99166481\n",
      "  0.97384763  0.94630009  0.90929743  0.86320937  0.8084964   0.74570521\n",
      "  0.67546318  0.59847214  0.51550137  0.42737988  0.33498815  0.23924933\n",
      "  0.14112001  0.04158066 -0.05837414 -0.15774569 -0.2555411  -0.35078323\n",
      " -0.44252044 -0.52983614 -0.61185789 -0.68776616 -0.7568025  -0.81827711\n",
      " -0.87157577 -0.91616594 -0.95160207 -0.97753012 -0.993691   -0.99992326\n",
      " -0.99616461 -0.98245261 -0.95892427 -0.92581468 -0.88345466 -0.83226744\n",
      " -0.77276449 -0.70554033 -0.63126664 -0.55068554 -0.46460218 -0.37387666\n",
      " -0.2794155  -0.1821625  -0.0830894   0.0168139   0.1165492   0.21511999\n",
      "  0.31154136  0.40484992  0.49411335  0.57843976  0.6569866   0.72896904\n",
      "  0.79366786  0.85043662  0.8987081   0.93799998  0.96791967  0.98816823\n",
      "  0.99854335  0.99894134  0.98935825  0.96988981  0.94073056  0.90217183\n",
      "  0.85459891  0.79848711  0.7343971   0.66296923  0.58491719  0.50102086\n",
      "  0.41211849  0.31909836  0.22288991  0.12445442  0.02477543]\n"
     ]
    },
    {
     "data": {
      "image/png": "[encoded data removed]",
      "text/plain": [
       "<Figure size 432x288 with 1 Axes>"
      ]
     },
     "metadata": {
      "needs_background": "light"
     },
     "output_type": "display_data"
    }
   ],
   "source": [
    "#using the pi function plotting the graph using sin function\n",
    "\n",
    "import numpy as np\n",
    "\n",
    "a=np.arange(0,3*np.pi,0.1)\n",
    "b=np.sin(a)\n",
    "print(\"the array is :\",a)\n",
    "print(\"the sin array is :\",b)\n",
    "plt.plot(a,b)\n",
    "plt.title(\"sin graph\")\n",
    "plt.show()"
   ]
  },
  {
   "cell_type": "code",
   "execution_count": 78,
   "id": "d0254bac",
   "metadata": {},
   "outputs": [
    {
     "name": "stdout",
     "output_type": "stream",
     "text": [
      "[[0 0 0 0 0 0]\n",
      " [0 0 0 0 0 0]\n",
      " [0 0 1 0 0 1]\n",
      " [0 0 0 0 0 0]\n",
      " [0 0 0 0 0 0]\n",
      " [0 0 1 0 0 1]]\n"
     ]
    }
   ],
   "source": [
    "import numpy as np\n",
    "\n",
    "\n",
    "a=np.zeros((6,6),dtype=int)\n",
    "#print(\"the array is :\",a)\n",
    "c=a[2::3,2::3]=1\n",
    "print(a)"
   ]
  },
  {
   "cell_type": "code",
   "execution_count": 108,
   "id": "a5c12567",
   "metadata": {},
   "outputs": [
    {
     "name": "stdout",
     "output_type": "stream",
     "text": [
      "thep array1 : [[13  3 12 10  8 15]\n",
      " [11  6  6  7  8 10]\n",
      " [ 4  8  9 12  6  8]]\n",
      "the second array [[6 9]\n",
      " [3 6]\n",
      " [7 4]\n",
      " [7 7]]\n"
     ]
    }
   ],
   "source": [
    "#using the randint fuction \n",
    "#\"numpy.random.randint(low, high = None, size = None, dtype = int\"\n",
    "#low: Lowest integer drawn from the distribution. If the high number is not None, it works as the starting value, and the high is None, then it acts as the highest number.\n",
    "#high: It is optional, and this is the highest integer to be drawn from the distribution.\n",
    "#size: It can be an integer or tuple of integers. Here, we have to specify the array size or dimension. For instance, size = (2, 3) fills two rows and three columns array with integers.\n",
    "#dtype: Data type of the output\n",
    "\n",
    "import numpy as np\n",
    "\n",
    "a=np.random.randint(18,size=(3,6))\n",
    "print(\"thep array1 :\",a)\n",
    "b=np.random.randint(2,10,size=(4,2))\n",
    "print(\"the second array\",b)"
   ]
  },
  {
   "cell_type": "code",
   "execution_count": 109,
   "id": "f0210457",
   "metadata": {},
   "outputs": [
    {
     "name": "stdout",
     "output_type": "stream",
     "text": [
      "[[0.76185393 0.67837223 0.0943189  0.68661152        nan]\n",
      " [0.41998255 0.26798184 0.57044539 0.66308566 0.6906102 ]\n",
      " [0.7634408         nan 0.73342212 0.6185146  0.62306621]\n",
      " [0.52239573 0.78180431 0.24600309 0.12081052 0.70554537]\n",
      " [       nan        nan 0.21531067 0.09198316        nan]]\n"
     ]
    }
   ],
   "source": [
    "#using the NAN->>\"NOT A NUMBER\"\n",
    "#using the randint,rand\n",
    "#size means \n",
    "import numpy as np\n",
    "\n",
    "a=np.random.rand(5,5)\n",
    "b=a[np.random.randint(5,size=(7)),np.random.randint(5,size=7)]=np.nan\n",
    "print(a)"
   ]
  },
  {
   "cell_type": "code",
   "execution_count": 125,
   "id": "18e525a2",
   "metadata": {},
   "outputs": [
    {
     "name": "stdout",
     "output_type": "stream",
     "text": [
      "[[0.22908157        nan 0.07244433 0.58105896        nan]\n",
      " [0.59321667        nan 0.16751715        nan        nan]\n",
      " [0.28264015 0.87161764 0.08731261 0.71704778        nan]\n",
      " [0.34799876 0.81609815 0.53041918 0.89516696 0.99242813]\n",
      " [       nan 0.64849687 0.74720637 0.58690817 0.79416359]]\n",
      "the no of nan elements are : 7\n",
      "the indexes of NAN elements in the array : [[0 1]\n",
      " [0 4]\n",
      " [1 1]\n",
      " [1 3]\n",
      " [1 4]\n",
      " [2 4]\n",
      " [4 0]]\n"
     ]
    }
   ],
   "source": [
    "#finding all NAN elements in the array and printing the indexes of NAN element using argwhere\n",
    "import numpy as np\n",
    "\n",
    "a=np.random.rand(5,5)\n",
    "b=a[np.random.randint(5,size=(7)),np.random.randint(5,size=7)]=np.nan\n",
    "print(a)\n",
    "\n",
    "#printing the sum of NAN elements in the array \n",
    "c=np.isnan(a).sum()\n",
    "print(\"the no of nan elements are :\",c)\n",
    "\n",
    "#printing the indexes of the NAN elements in the array using argwhere\n",
    "d=np.argwhere(np.isnan(a))\n",
    "print(\"the indexes of NAN elements in the array :\",d)"
   ]
  },
  {
   "cell_type": "code",
   "execution_count": 128,
   "id": "dfbbfd28",
   "metadata": {},
   "outputs": [
    {
     "name": "stdout",
     "output_type": "stream",
     "text": [
      "[[0.83573127 0.11259831        nan 0.19035242 0.74137093]\n",
      " [       nan 0.42846029 0.95348987 0.29065566        nan]\n",
      " [0.61944117 0.93506236 0.42854407 0.54721169 0.94689826]\n",
      " [0.11214008 0.72219275 0.7483634         nan 0.59589792]\n",
      " [       nan        nan 0.91144192        nan 0.81403315]]\n",
      "the no of nan elements are : 7\n",
      "the indexes of NAN elements in the array : (array([0, 1, 1, 3, 4, 4, 4], dtype=int64), array([2, 0, 4, 3, 0, 1, 3], dtype=int64))\n",
      "[[0.83573127 0.11259831 0.         0.19035242 0.74137093]\n",
      " [0.         0.42846029 0.95348987 0.29065566 0.        ]\n",
      " [0.61944117 0.93506236 0.42854407 0.54721169 0.94689826]\n",
      " [0.11214008 0.72219275 0.7483634  0.         0.59589792]\n",
      " [0.         0.         0.91144192 0.         0.81403315]]\n"
     ]
    }
   ],
   "source": [
    "\n",
    "import numpy as np\n",
    "\n",
    "a=np.random.rand(5,5)\n",
    "b=a[np.random.randint(5,size=(7)),np.random.randint(5,size=7)]=np.nan\n",
    "print(a)\n",
    "\n",
    "#printing the sum of NAN elements in the array \n",
    "c=np.isnan(a).sum()\n",
    "print(\"the no of nan elements are :\",c)\n",
    "\n",
    "#printing the indexes of the NAN elements in the array using argwhere\n",
    "d=np.where(np.isnan(a))\n",
    "print(\"the indexes of NAN elements in the array :\",d)\n",
    "\n",
    "#changing the value of the NAN elements in the array.\n",
    "a[d]=0\n",
    "print(a)"
   ]
  },
  {
   "cell_type": "code",
   "execution_count": 137,
   "id": "69a33495",
   "metadata": {},
   "outputs": [
    {
     "name": "stdout",
     "output_type": "stream",
     "text": [
      "[[12  3  4]\n",
      " [ 2  3  4]\n",
      " [ 1  4  3]\n",
      " [12  3  4]]\n",
      "[[12  3  4  1  4  3]\n",
      " [ 2  3  4 12  3  4]]\n"
     ]
    }
   ],
   "source": [
    "#concatenating the arrays \n",
    "import numpy as np\n",
    "\n",
    "a=np.array([[12,3,4],[2,3,4]])\n",
    "b=np.array([[1,4,3],[12,3,4]])\n",
    "\n",
    "#concatenating vertically\n",
    "\n",
    "c=np.vstack([a,b])\n",
    "print(c)\n",
    "\n",
    "#concatenating horizontally\n",
    "\n",
    "d=np.hstack([a,b])\n",
    "print(d)"
   ]
  },
  {
   "cell_type": "code",
   "execution_count": 2,
   "id": "70b86ce2",
   "metadata": {},
   "outputs": [
    {
     "name": "stdout",
     "output_type": "stream",
     "text": [
      "(3, 11)\n"
     ]
    }
   ],
   "source": [
    "#LOADING A INPUT FILE \n",
    "\n",
    "import numpy as np\n",
    "\n",
    "#using genfromtxt function for loading the data.\n",
    "a=np.genfromtxt('input.txt',delimiter=',')\n",
    "b=a.astype('int32')\n",
    "print(b.shape)"
   ]
  },
  {
   "cell_type": "code",
   "execution_count": 4,
   "id": "95654e20",
   "metadata": {},
   "outputs": [
    {
     "name": "stdout",
     "output_type": "stream",
     "text": [
      "the mean of speed is :  89.76923076923077\n"
     ]
    }
   ],
   "source": [
    "#calculating the mean.\n",
    "import numpy\n",
    "\n",
    "speed = [99,86,87,88,111,86,103,87,94,78,77,85,86]\n",
    "\n",
    "x = numpy.mean(speed)\n",
    "\n",
    "print(\"the mean of speed is : \",x)"
   ]
  },
  {
   "cell_type": "code",
   "execution_count": 3,
   "id": "8489b932",
   "metadata": {},
   "outputs": [
    {
     "name": "stdout",
     "output_type": "stream",
     "text": [
      "the median is :  87.0\n"
     ]
    }
   ],
   "source": [
    "#calculating the median.\n",
    "import numpy\n",
    "\n",
    "speed = [99,86,87,88,111,86,103,87,94,78,77,85,86]\n",
    "\n",
    "x = numpy.median(speed)\n",
    "\n",
    "print(\"the median is : \",x)"
   ]
  },
  {
   "cell_type": "code",
   "execution_count": 5,
   "id": "362c11e9",
   "metadata": {},
   "outputs": [
    {
     "name": "stdout",
     "output_type": "stream",
     "text": [
      "ModeResult(mode=array([86]), count=array([3]))\n"
     ]
    }
   ],
   "source": [
    "from scipy import stats\n",
    "\n",
    "speed = [99,86,87,88,111,86,103,87,94,78,77,85,86]\n",
    "\n",
    "x = stats.mode(speed)\n",
    "\n",
    "print(x)"
   ]
  },
  {
   "cell_type": "code",
   "execution_count": null,
   "id": "a325f56a",
   "metadata": {},
   "outputs": [],
   "source": []
  }
 ],
 "metadata": {
  "kernelspec": {
   "display_name": "Python 3 (ipykernel)",
   "language": "python",
   "name": "python3"
  },
  "language_info": {
   "codemirror_mode": {
    "name": "ipython",
    "version": 3
   },
   "file_extension": ".py",
   "mimetype": "text/x-python",
   "name": "python",
   "nbconvert_exporter": "python",
   "pygments_lexer": "ipython3",
   "version": "3.9.7"
  }
 },
 "nbformat": 4,
 "nbformat_minor": 5
}
