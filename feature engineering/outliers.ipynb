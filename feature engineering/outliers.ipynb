{
 "cells": [
  {
   "cell_type": "markdown",
   "id": "69667832",
   "metadata": {},
   "source": [
    "# What is Outliers?\n",
    "- A outlier is distant value from all the other observations in the dataset.\n",
    "- A value which is different from all the other observations in the dataset.\n",
    "\n",
    "## Causes of Outliers :\n",
    "- The presence of Outliers in the dataset makes the model which we are training makes it to predict the \n",
    "  false results or in most cases the model will be True for all the other observations in the dataset\n",
    "  but it will be failing for some of the values which is because it is distant from all the other         values in the dataset."
   ]
  },
  {
   "cell_type": "code",
   "execution_count": 2,
   "id": "50aace3f",
   "metadata": {},
   "outputs": [],
   "source": [
    "import numpy as np\n",
    "import pandas as pd\n",
    "import matplotlib.pyplot as plt\n",
    "%matplotlib inline"
   ]
  },
  {
   "cell_type": "markdown",
   "id": "1876fd24",
   "metadata": {},
   "source": [
    "## What are the criteria to Identify an outlier?\n",
    "1. "
   ]
  }
 ],
 "metadata": {
  "kernelspec": {
   "display_name": "Python 3 (ipykernel)",
   "language": "python",
   "name": "python3"
  },
  "language_info": {
   "codemirror_mode": {
    "name": "ipython",
    "version": 3
   },
   "file_extension": ".py",
   "mimetype": "text/x-python",
   "name": "python",
   "nbconvert_exporter": "python",
   "pygments_lexer": "ipython3",
   "version": "3.9.7"
  }
 },
 "nbformat": 4,
 "nbformat_minor": 5
}
