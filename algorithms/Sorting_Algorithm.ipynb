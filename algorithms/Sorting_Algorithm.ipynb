{
 "cells": [
  {
   "cell_type": "markdown",
   "id": "77ded6cd",
   "metadata": {},
   "source": [
    "# Bubble sort "
   ]
  },
  {
   "cell_type": "code",
   "execution_count": null,
   "id": "3600e5cb",
   "metadata": {},
   "outputs": [],
   "source": []
  },
  {
   "cell_type": "code",
   "execution_count": 1,
   "id": "9807fa84",
   "metadata": {},
   "outputs": [
    {
     "name": "stdout",
     "output_type": "stream",
     "text": [
      "the iteration number is : 0\n",
      "[4, 6, 8, 45, 3, 9009]\n",
      "the iteration number is : 1\n",
      "[4, 6, 8, 3, 45, 9009]\n",
      "the iteration number is : 2\n",
      "[4, 6, 3, 8, 45, 9009]\n",
      "the iteration number is : 3\n",
      "[4, 3, 6, 8, 45, 9009]\n",
      "the iteration number is : 4\n",
      "[3, 4, 6, 8, 45, 9009]\n"
     ]
    }
   ],
   "source": [
    "# declaring a function with the name bubble_Sort \n",
    "def bubble_Sort(arr):\n",
    "    #looping through the total number of elements using the range function . \n",
    "    for j in range(len(arr)-1):\n",
    "        # looping through each element with the total number elements present in the array .\n",
    "        for k in range(len(arr)-1):\n",
    "            # checking the condition using if, we are finding the greatest number . \n",
    "            if arr[k] > arr[k+1]:\n",
    "                # swapping the elements if the condition is \"'True\"\"\n",
    "                arr[k],arr[k+1] = arr[k+1],arr[k]\n",
    "        # calculating the  number of iterations taking place .       \n",
    "        print(f\"the iteration number is : {j}\")\n",
    "        # printing the sorted array . \n",
    "        print(arr)\n",
    "\n",
    "\n",
    "\n",
    "arr = [4,45,6,8,9009,3]\n",
    "bubble_Sort(arr)"
   ]
  },
  {
   "cell_type": "markdown",
   "id": "ff92068f",
   "metadata": {},
   "source": [
    "# Insertion Sort\n"
   ]
  },
  {
   "cell_type": "code",
   "execution_count": null,
   "id": "22607555",
   "metadata": {},
   "outputs": [],
   "source": [
    "def insertion_Sort(arr):\n",
    "    # looping through the array and iterating the each element of the array .\n",
    "    for i in range(0,len(arr)):\n",
    "    # looping the values by using min_value = arr[i] .\n",
    "        min_value = arr[i]\n",
    "        # looping the values through the -1 index of the loop . \n",
    "        min_index = i - 1\n",
    "        #using while checking index should be zero or greater and value of \"i -1\" should be greate than \"i\" value \n",
    "        while min_index >= 0 and arr[min_index] > min_value:\n",
    "            # changing the values position of the values in the array .\n",
    "            arr[min_index+1] = arr[min_index]\n",
    "            # decrementing the index value .\n",
    "            min_index -= 1\n",
    "        # then changing the value of the i+1 index and the setting min_value to its position . \n",
    "        arr[min_index+1] = min_value\n",
    "        # printing the sorted array .\n",
    "        print(arr)    \n",
    "\n",
    "arr = [12,3,4,5,66,3,2,34]\n",
    "insertion_Sort(arr)"
   ]
  },
  {
   "cell_type": "markdown",
   "id": "1805d3b3",
   "metadata": {},
   "source": [
    "# Selection Sort"
   ]
  },
  {
   "cell_type": "code",
   "execution_count": null,
   "id": "43ba9e63",
   "metadata": {},
   "outputs": [],
   "source": [
    "# define a function called selection_sort . \n",
    "def selection_Sort(arr):\n",
    "    # looping through the array with the use of len function . \n",
    "    for i in range(len(arr)-1):\n",
    "        # create a variable,store the values of the indexes \n",
    "        min_value = i\n",
    "        # looping through each element in the array . with range increment with the first iteration value . \n",
    "        for j in range(i+1,len(arr)):\n",
    "            # checking the condition with the with min_value if it is less than \n",
    "            if arr[j] < arr[min_value]:\n",
    "                # the value is changed \n",
    "                min_value = j\n",
    "        # if min_value is not equal to the first iteration value .\n",
    "        if min_value != i:\n",
    "            # Then swap the elements: the iteration value to the changed value of the second iteration . \n",
    "            arr[i],arr[min_value] = arr[min_value],arr[i]\n",
    "        print(f\"pass: {i}\")\n",
    "        print(arr)\n",
    "               \n",
    "arr = [12,34,5,2,6]\n",
    "selection_Sort(arr)"
   ]
  }
 ],
 "metadata": {
  "kernelspec": {
   "display_name": "Python 3 (ipykernel)",
   "language": "python",
   "name": "python3"
  },
  "language_info": {
   "codemirror_mode": {
    "name": "ipython",
    "version": 3
   },
   "file_extension": ".py",
   "mimetype": "text/x-python",
   "name": "python",
   "nbconvert_exporter": "python",
   "pygments_lexer": "ipython3",
   "version": "3.10.15"
  }
 },
 "nbformat": 4,
 "nbformat_minor": 5
}
