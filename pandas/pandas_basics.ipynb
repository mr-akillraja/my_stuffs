{
 "cells": [
  {
   "cell_type": "code",
   "execution_count": 3,
   "id": "fecbf6fd",
   "metadata": {},
   "outputs": [
    {
     "name": "stdout",
     "output_type": "stream",
     "text": [
      "the series is :  0     1.0\n",
      "1    45.0\n",
      "2     3.0\n",
      "3     2.0\n",
      "4     3.0\n",
      "5     4.0\n",
      "6     NaN\n",
      "7    23.0\n",
      "8     4.0\n",
      "9     5.0\n",
      "dtype: float64\n"
     ]
    }
   ],
   "source": [
    "#arranging the array elements in series using pandas\n",
    "\n",
    "import pandas as pd\n",
    "import numpy as np\n",
    "\n",
    "a=pd.Series([1,45,3,2,3,4,np.nan,23,4,5])\n",
    "print(\"the series is : \",a)"
   ]
  },
  {
   "cell_type": "code",
   "execution_count": 69,
   "id": "0307bc10",
   "metadata": {},
   "outputs": [
    {
     "name": "stdout",
     "output_type": "stream",
     "text": [
      "DatetimeIndex(['2022-05-03', '2022-05-04', '2022-05-05', '2022-05-06',\n",
      "               '2022-05-07'],\n",
      "              dtype='datetime64[ns]', freq='D')\n"
     ]
    }
   ],
   "source": [
    "#printing the date using pandas\n",
    "\n",
    "import pandas as pd\n",
    "import numpy as np\n",
    "\n",
    "#using date_range function \n",
    "\n",
    "a=pd.date_range('20220503',periods=5)\n",
    "print(a)"
   ]
  },
  {
   "cell_type": "code",
   "execution_count": 66,
   "id": "997b8b9c",
   "metadata": {},
   "outputs": [
    {
     "name": "stdout",
     "output_type": "stream",
     "text": [
      "                   A         B         C         D         E\n",
      "2022-05-02  0.102071  1.041642 -1.498879 -0.245882 -1.780245\n",
      "2022-05-03 -0.761635 -0.609191 -0.027285 -0.486158  1.233680\n",
      "2022-05-04 -0.340719 -0.690378  0.194809 -2.000810  0.469355\n",
      "2022-05-05  0.740567  0.647417 -0.367231 -0.088629 -0.836309\n",
      "2022-05-06 -1.941765 -1.021029  1.225240  0.707024 -2.094293\n"
     ]
    }
   ],
   "source": [
    "#making the arrays into a dataframe\n",
    "import pandas as pd \n",
    "import numpy as np \n",
    "from matplotlib import pyplot as plt\n",
    "\n",
    "b=pd.DataFrame(np.random.randn(5,5),index=a,columns=['A','B','C','D','E'])\n",
    "print(b)\n",
    "#plt.plot(d)\n",
    "#plt.show()"
   ]
  },
  {
   "cell_type": "code",
   "execution_count": 25,
   "id": "09547e3b",
   "metadata": {},
   "outputs": [
    {
     "name": "stdout",
     "output_type": "stream",
     "text": [
      "              A         B         C         D         E\n",
      "count  5.000000  5.000000  5.000000  5.000000  5.000000\n",
      "mean  -0.016101 -0.293643  0.102945  0.511551 -0.439965\n",
      "std    0.621486  1.500904  1.040971  0.801072  1.065911\n",
      "min   -0.758700 -2.389844 -0.797321 -0.247981 -1.485885\n",
      "25%   -0.553872 -1.188651 -0.660290 -0.203106 -1.011622\n",
      "50%    0.087227 -0.002665 -0.488177  0.572995 -0.555595\n",
      "75%    0.550775  0.849758  1.071524  0.729281 -0.470176\n",
      "max    0.594064  1.263187  1.388989  1.706566  1.323454\n"
     ]
    }
   ],
   "source": [
    "#getting the mean,std,max ect.., using describe function\n",
    "import pandas as pd \n",
    "import numpy as np\n",
    "\n",
    "c=b.describe()\n",
    "print(c)"
   ]
  },
  {
   "cell_type": "code",
   "execution_count": 99,
   "id": "72eb0581",
   "metadata": {},
   "outputs": [
    {
     "name": "stdout",
     "output_type": "stream",
     "text": [
      "DatetimeIndex(['2022-05-02', '2022-05-03', '2022-05-04', '2022-05-05',\n",
      "               '2022-05-06'],\n",
      "              dtype='datetime64[ns]', freq='D')\n",
      "                   A         B         C         D         E\n",
      "2022-05-02 -0.344074 -1.313177  0.837040  1.177506  1.367632\n",
      "2022-05-03  2.182202  0.691589 -0.365264 -0.798384 -0.911283\n",
      "2022-05-04  1.348320  0.913085 -0.141057 -0.215343  1.512546\n",
      "2022-05-05  0.587348  1.267972 -0.049636  0.375337  0.806494\n",
      "2022-05-06  0.264483  0.649175  0.754412 -0.243963  0.574710\n"
     ]
    },
    {
     "data": {
      "image/png": "[encoded data removed]",
      "text/plain": [
       "<Figure size 432x288 with 1 Axes>"
      ]
     },
     "metadata": {
      "needs_background": "light"
     },
     "output_type": "display_data"
    }
   ],
   "source": [
    "#plotting the values in the graph\n",
    "import pandas as pd\n",
    "import numpy as np\n",
    "\n",
    "#using date_range function \n",
    "\n",
    "a=pd.date_range('20220502',periods=5)\n",
    "print(a)\n",
    "from matplotlib import pyplot as plt\n",
    "\n",
    "b=pd.DataFrame(np.random.randn(5,5),index=a,columns=['A','B','C','D','E'])\n",
    "print(b)\n",
    "plt.plot(b)\n",
    "plt.show()"
   ]
  },
  {
   "cell_type": "code",
   "execution_count": 89,
   "id": "d2b30802",
   "metadata": {},
   "outputs": [
    {
     "name": "stdout",
     "output_type": "stream",
     "text": [
      "    year industry_code_ANZSIC               industry_name_ANZSIC rme_size_grp  \\\n",
      "0   2011                    A  Agriculture, Forestry and Fishing          a_0   \n",
      "1   2011                    A  Agriculture, Forestry and Fishing          a_0   \n",
      "2   2011                    A  Agriculture, Forestry and Fishing          a_0   \n",
      "3   2011                    A  Agriculture, Forestry and Fishing          a_0   \n",
      "4   2011                    A  Agriculture, Forestry and Fishing          a_0   \n",
      "5   2011                    A  Agriculture, Forestry and Fishing          a_0   \n",
      "6   2011                    A  Agriculture, Forestry and Fishing          a_0   \n",
      "7   2011                    A  Agriculture, Forestry and Fishing          a_0   \n",
      "8   2011                    A  Agriculture, Forestry and Fishing          a_0   \n",
      "9   2011                    A  Agriculture, Forestry and Fishing        b_1-5   \n",
      "10  2011                    A  Agriculture, Forestry and Fishing        b_1-5   \n",
      "11  2011                    A  Agriculture, Forestry and Fishing        b_1-5   \n",
      "12  2011                    A  Agriculture, Forestry and Fishing        b_1-5   \n",
      "13  2011                    A  Agriculture, Forestry and Fishing        b_1-5   \n",
      "14  2011                    A  Agriculture, Forestry and Fishing        b_1-5   \n",
      "15  2011                    A  Agriculture, Forestry and Fishing        b_1-5   \n",
      "16  2011                    A  Agriculture, Forestry and Fishing        b_1-5   \n",
      "17  2011                    A  Agriculture, Forestry and Fishing        b_1-5   \n",
      "18  2011                    A  Agriculture, Forestry and Fishing        c_6-9   \n",
      "19  2011                    A  Agriculture, Forestry and Fishing        c_6-9   \n",
      "20  2011                    A  Agriculture, Forestry and Fishing        c_6-9   \n",
      "21  2011                    A  Agriculture, Forestry and Fishing        c_6-9   \n",
      "\n",
      "                                           variable  value               unit  \n",
      "0                                     Activity unit  46134              COUNT  \n",
      "1                            Rolling mean employees      0              COUNT  \n",
      "2                           Salaries and wages paid    279  DOLLARS(millions)  \n",
      "3   Sales, government funding, grants and subsidies   8187  DOLLARS(millions)  \n",
      "4                                      Total income   8866  DOLLARS(millions)  \n",
      "5                                 Total expenditure   7618  DOLLARS(millions)  \n",
      "6                       Operating profit before tax    770  DOLLARS(millions)  \n",
      "7                                      Total assets  55700  DOLLARS(millions)  \n",
      "8                             Fixed tangible assets  32155  DOLLARS(millions)  \n",
      "9                                     Activity unit  21777              COUNT  \n",
      "10                           Rolling mean employees  38136              COUNT  \n",
      "11                          Salaries and wages paid   1435  DOLLARS(millions)  \n",
      "12  Sales, government funding, grants and subsidies  13359  DOLLARS(millions)  \n",
      "13                                     Total income  13771  DOLLARS(millions)  \n",
      "14                                Total expenditure  12316  DOLLARS(millions)  \n",
      "15                      Operating profit before tax   1247  DOLLARS(millions)  \n",
      "16                                     Total assets  52666  DOLLARS(millions)  \n",
      "17                            Fixed tangible assets  31235  DOLLARS(millions)  \n",
      "18                                    Activity unit   1965              COUNT  \n",
      "19                           Rolling mean employees  13848              COUNT  \n",
      "20                          Salaries and wages paid    467  DOLLARS(millions)  \n",
      "21  Sales, government funding, grants and subsidies   3060  DOLLARS(millions)  \n"
     ]
    }
   ],
   "source": [
    "#accessing the columns from the csv files.\n",
    "import pandas as pd\n",
    "import numpy as np\n",
    "\n",
    "reading_csv=pd.read_csv('C:\\\\Users\\\\Lenovo\\\\Documents\\\\py\\\\pandas\\\\input.csv')\n",
    "print(reading_csv)"
   ]
  },
  {
   "cell_type": "code",
   "execution_count": 93,
   "id": "f82a28b6",
   "metadata": {},
   "outputs": [
    {
     "name": "stdout",
     "output_type": "stream",
     "text": [
      "<class 'pandas.core.frame.DataFrame'>\n",
      "RangeIndex: 22 entries, 0 to 21\n",
      "Data columns (total 7 columns):\n",
      " #   Column                Non-Null Count  Dtype \n",
      "---  ------                --------------  ----- \n",
      " 0   year                  22 non-null     int64 \n",
      " 1   industry_code_ANZSIC  22 non-null     object\n",
      " 2   industry_name_ANZSIC  22 non-null     object\n",
      " 3   rme_size_grp          22 non-null     object\n",
      " 4   variable              22 non-null     object\n",
      " 5   value                 22 non-null     int64 \n",
      " 6   unit                  22 non-null     object\n",
      "dtypes: int64(2), object(5)\n",
      "memory usage: 1.3+ KB\n"
     ]
    }
   ],
   "source": [
    "#providing the information of the cuurent csv file using info().\n",
    "#The method info() provides technical information about a DataFrame.\n",
    "\n",
    "\n",
    "import pandas as pd\n",
    "import numpy as np\n",
    "\n",
    "reading_csv=pd.read_csv('C:\\\\Users\\\\Lenovo\\\\Documents\\\\py\\\\pandas\\\\input.csv')\n",
    "c=reading_csv.info()\n"
   ]
  },
  {
   "cell_type": "code",
   "execution_count": 90,
   "id": "1af667ec",
   "metadata": {},
   "outputs": [
    {
     "name": "stdout",
     "output_type": "stream",
     "text": [
      "0     46134\n",
      "1         0\n",
      "2       279\n",
      "3      8187\n",
      "4      8866\n",
      "5      7618\n",
      "6       770\n",
      "7     55700\n",
      "8     32155\n",
      "9     21777\n",
      "10    38136\n",
      "11     1435\n",
      "12    13359\n",
      "13    13771\n",
      "14    12316\n",
      "15     1247\n",
      "16    52666\n",
      "17    31235\n",
      "18     1965\n",
      "19    13848\n",
      "20      467\n",
      "21     3060\n",
      "Name: value, dtype: int64\n",
      "the shape is : (22, 2)\n"
     ]
    }
   ],
   "source": [
    "#accessing the columns from the csv files.\n",
    "import pandas as pd\n",
    "import numpy as np\n",
    "\n",
    "reading_csv=pd.read_csv('C:\\\\Users\\\\Lenovo\\\\Documents\\\\py\\\\pandas\\\\input.csv')\n",
    "b=reading_csv['value']\n",
    "c=reading_csv[['unit','value']].shape\n",
    "\n",
    "#head function used to access the values of the column in the csv file.\n",
    "print(b.head(22))\n",
    "\n",
    "print(\"the shape is :\",c)"
   ]
  },
  {
   "cell_type": "code",
   "execution_count": 98,
   "id": "e09f89d7",
   "metadata": {},
   "outputs": [
    {
     "name": "stdout",
     "output_type": "stream",
     "text": [
      "   year industry_code_ANZSIC               industry_name_ANZSIC rme_size_grp  \\\n",
      "0  2011                    A  Agriculture, Forestry and Fishing          a_0   \n",
      "1  2011                    A  Agriculture, Forestry and Fishing          a_0   \n",
      "2  2011                    A  Agriculture, Forestry and Fishing          a_0   \n",
      "3  2011                    A  Agriculture, Forestry and Fishing          a_0   \n",
      "4  2011                    A  Agriculture, Forestry and Fishing          a_0   \n",
      "\n",
      "                                          variable  value               unit  \n",
      "0                                    Activity unit  46134              COUNT  \n",
      "1                           Rolling mean employees      0              COUNT  \n",
      "2                          Salaries and wages paid    279  DOLLARS(millions)  \n",
      "3  Sales, government funding, grants and subsidies   8187  DOLLARS(millions)  \n",
      "4                                     Total income   8866  DOLLARS(millions)  \n"
     ]
    }
   ],
   "source": [
    "#The notna() conditional function returns a True for each row the values are not an Null value.\n",
    "\n",
    "import pandas as pd\n",
    "import numpy as np\n",
    "\n",
    "reading_csv=pd.read_csv('C:\\\\Users\\\\Lenovo\\\\Documents\\\\py\\\\pandas\\\\input.csv')\n",
    "b=reading_csv[reading_csv['value'].notna()]\n",
    "\n",
    "print(b.head())"
   ]
  },
  {
   "cell_type": "code",
   "execution_count": 4,
   "id": "1611300e",
   "metadata": {},
   "outputs": [
    {
     "name": "stdout",
     "output_type": "stream",
     "text": [
      "the factorize values are :  [0 1 2 1 3 1 4 3 5 5]\n",
      "the unique values are :  [12  3 45  4 23  5]\n"
     ]
    }
   ],
   "source": [
    "import pandas as pd\n",
    "import numpy as np\n",
    "\n",
    "label1,unique1 = pd.factorize([12,3,45,3,4,3,23,4,5,5])\n",
    "print(\"the factorize values are : \",label1)\n",
    "print(\"the unique values are : \",unique1)"
   ]
  },
  {
   "cell_type": "code",
   "execution_count": null,
   "id": "c531ba4b",
   "metadata": {},
   "outputs": [],
   "source": []
  },
  {
   "cell_type": "code",
   "execution_count": 108,
   "id": "bb888f75",
   "metadata": {},
   "outputs": [
    {
     "data": {
      "image/png": "[encoded data removed]",
      "text/plain": [
       "<Figure size 432x288 with 1 Axes>"
      ]
     },
     "metadata": {
      "needs_background": "light"
     },
     "output_type": "display_data"
    }
   ],
   "source": []
  },
  {
   "cell_type": "code",
   "execution_count": null,
   "id": "3abb50be",
   "metadata": {},
   "outputs": [],
   "source": []
  }
 ],
 "metadata": {
  "kernelspec": {
   "display_name": "Python 3 (ipykernel)",
   "language": "python",
   "name": "python3"
  },
  "language_info": {
   "codemirror_mode": {
    "name": "ipython",
    "version": 3
   },
   "file_extension": ".py",
   "mimetype": "text/x-python",
   "name": "python",
   "nbconvert_exporter": "python",
   "pygments_lexer": "ipython3",
   "version": "3.9.7"
  }
 },
 "nbformat": 4,
 "nbformat_minor": 5
}
