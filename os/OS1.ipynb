{
 "cells": [
  {
   "cell_type": "code",
   "execution_count": 7,
   "id": "3774d793",
   "metadata": {},
   "outputs": [],
   "source": [
    "import os"
   ]
  },
  {
   "cell_type": "code",
   "execution_count": 8,
   "id": "be61259a",
   "metadata": {},
   "outputs": [
    {
     "data": {
      "text/plain": [
       "['DirEntry',\n",
       " 'F_OK',\n",
       " 'GenericAlias',\n",
       " 'Mapping',\n",
       " 'MutableMapping',\n",
       " 'O_APPEND',\n",
       " 'O_BINARY',\n",
       " 'O_CREAT',\n",
       " 'O_EXCL',\n",
       " 'O_NOINHERIT',\n",
       " 'O_RANDOM',\n",
       " 'O_RDONLY',\n",
       " 'O_RDWR',\n",
       " 'O_SEQUENTIAL',\n",
       " 'O_SHORT_LIVED',\n",
       " 'O_TEMPORARY',\n",
       " 'O_TEXT',\n",
       " 'O_TRUNC',\n",
       " 'O_WRONLY',\n",
       " 'P_DETACH',\n",
       " 'P_NOWAIT',\n",
       " 'P_NOWAITO',\n",
       " 'P_OVERLAY',\n",
       " 'P_WAIT',\n",
       " 'PathLike',\n",
       " 'R_OK',\n",
       " 'SEEK_CUR',\n",
       " 'SEEK_END',\n",
       " 'SEEK_SET',\n",
       " 'TMP_MAX',\n",
       " 'W_OK',\n",
       " 'X_OK',\n",
       " '_AddedDllDirectory',\n",
       " '_Environ',\n",
       " '__all__',\n",
       " '__builtins__',\n",
       " '__cached__',\n",
       " '__doc__',\n",
       " '__file__',\n",
       " '__loader__',\n",
       " '__name__',\n",
       " '__package__',\n",
       " '__spec__',\n",
       " '_check_methods',\n",
       " '_execvpe',\n",
       " '_exists',\n",
       " '_exit',\n",
       " '_fspath',\n",
       " '_get_exports_list',\n",
       " '_walk',\n",
       " '_wrap_close',\n",
       " 'abc',\n",
       " 'abort',\n",
       " 'access',\n",
       " 'add_dll_directory',\n",
       " 'altsep',\n",
       " 'chdir',\n",
       " 'chmod',\n",
       " 'close',\n",
       " 'closerange',\n",
       " 'cpu_count',\n",
       " 'curdir',\n",
       " 'defpath',\n",
       " 'device_encoding',\n",
       " 'devnull',\n",
       " 'dup',\n",
       " 'dup2',\n",
       " 'environ',\n",
       " 'error',\n",
       " 'execl',\n",
       " 'execle',\n",
       " 'execlp',\n",
       " 'execlpe',\n",
       " 'execv',\n",
       " 'execve',\n",
       " 'execvp',\n",
       " 'execvpe',\n",
       " 'extsep',\n",
       " 'fdopen',\n",
       " 'fsdecode',\n",
       " 'fsencode',\n",
       " 'fspath',\n",
       " 'fstat',\n",
       " 'fsync',\n",
       " 'ftruncate',\n",
       " 'get_exec_path',\n",
       " 'get_handle_inheritable',\n",
       " 'get_inheritable',\n",
       " 'get_terminal_size',\n",
       " 'getcwd',\n",
       " 'getcwdb',\n",
       " 'getenv',\n",
       " 'getlogin',\n",
       " 'getpid',\n",
       " 'getppid',\n",
       " 'isatty',\n",
       " 'kill',\n",
       " 'linesep',\n",
       " 'link',\n",
       " 'listdir',\n",
       " 'lseek',\n",
       " 'lstat',\n",
       " 'makedirs',\n",
       " 'mkdir',\n",
       " 'name',\n",
       " 'open',\n",
       " 'pardir',\n",
       " 'path',\n",
       " 'pathsep',\n",
       " 'pipe',\n",
       " 'popen',\n",
       " 'putenv',\n",
       " 'read',\n",
       " 'readlink',\n",
       " 'remove',\n",
       " 'removedirs',\n",
       " 'rename',\n",
       " 'renames',\n",
       " 'replace',\n",
       " 'rmdir',\n",
       " 'scandir',\n",
       " 'sep',\n",
       " 'set_handle_inheritable',\n",
       " 'set_inheritable',\n",
       " 'spawnl',\n",
       " 'spawnle',\n",
       " 'spawnv',\n",
       " 'spawnve',\n",
       " 'st',\n",
       " 'startfile',\n",
       " 'stat',\n",
       " 'stat_result',\n",
       " 'statvfs_result',\n",
       " 'strerror',\n",
       " 'supports_bytes_environ',\n",
       " 'supports_dir_fd',\n",
       " 'supports_effective_ids',\n",
       " 'supports_fd',\n",
       " 'supports_follow_symlinks',\n",
       " 'symlink',\n",
       " 'sys',\n",
       " 'system',\n",
       " 'terminal_size',\n",
       " 'times',\n",
       " 'times_result',\n",
       " 'truncate',\n",
       " 'umask',\n",
       " 'uname_result',\n",
       " 'unlink',\n",
       " 'unsetenv',\n",
       " 'urandom',\n",
       " 'utime',\n",
       " 'waitpid',\n",
       " 'waitstatus_to_exitcode',\n",
       " 'walk',\n",
       " 'write']"
      ]
     },
     "execution_count": 8,
     "metadata": {},
     "output_type": "execute_result"
    }
   ],
   "source": [
    "a=dir(os)\n",
    "a\n"
   ]
  },
  {
   "cell_type": "code",
   "execution_count": 9,
   "id": "549930e5",
   "metadata": {},
   "outputs": [
    {
     "data": {
      "text/plain": [
       "'C:\\\\Users\\\\Lenovo\\\\Documents\\\\py\\\\ml\\\\linear regression'"
      ]
     },
     "execution_count": 9,
     "metadata": {},
     "output_type": "execute_result"
    }
   ],
   "source": [
    "#getting the path of the current directory\n",
    "dir_path=os.getcwd()\n",
    "dir_path"
   ]
  },
  {
   "cell_type": "code",
   "execution_count": 10,
   "id": "eb8f07dd",
   "metadata": {},
   "outputs": [
    {
     "data": {
      "text/plain": [
       "'C:\\\\Users\\\\Lenovo\\\\Documents\\\\py\\\\ml'"
      ]
     },
     "execution_count": 10,
     "metadata": {},
     "output_type": "execute_result"
    }
   ],
   "source": [
    "#changing the directory.\n",
    "o=os.chdir('C:\\\\Users\\\\Lenovo\\\\Documents\\\\py\\\\ml')\n",
    "os.getcwd()"
   ]
  },
  {
   "cell_type": "code",
   "execution_count": 11,
   "id": "11ec853c",
   "metadata": {},
   "outputs": [
    {
     "data": {
      "text/plain": [
       "['ak.txt',\n",
       " 'bernd_klein_python_and_machine_learning_a4 (1).pdf',\n",
       " 'bernd_klein_python_and_machine_learning_a4.pdf',\n",
       " 'linear regression',\n",
       " 'Machine Learning Full Course - Learn Machine Learning 10 Hours _ Machine Learning Tutorial _ Edureka.mp4',\n",
       " 'machine-learning-projects-python.pdf',\n",
       " 'ML_IITM']"
      ]
     },
     "execution_count": 11,
     "metadata": {},
     "output_type": "execute_result"
    }
   ],
   "source": [
    "os.listdir()"
   ]
  },
  {
   "cell_type": "code",
   "execution_count": 12,
   "id": "180df3e8",
   "metadata": {},
   "outputs": [
    {
     "data": {
      "text/plain": [
       "['.ipynb_checkpoints',\n",
       " 'aks.txt',\n",
       " 'cows_and_goats.csv',\n",
       " 'csv_file_01.csv',\n",
       " 'linear_regression.ipynb',\n",
       " 'M R AKILL RAJA - Pandas.png',\n",
       " 'pandas.ipynb',\n",
       " 'Untitled.ipynb',\n",
       " 'Untitled1.ipynb']"
      ]
     },
     "execution_count": 12,
     "metadata": {},
     "output_type": "execute_result"
    }
   ],
   "source": [
    "os.listdir('linear regression')"
   ]
  },
  {
   "cell_type": "code",
   "execution_count": 13,
   "id": "a686a3fa",
   "metadata": {},
   "outputs": [
    {
     "name": "stdout",
     "output_type": "stream",
     "text": [
      "directory path : C:\\Users\\Lenovo\\Documents\\py\\ml\n",
      "directory names : ['linear regression', 'ML_IITM']\n",
      "file names : ['ak.txt', 'bernd_klein_python_and_machine_learning_a4 (1).pdf', 'bernd_klein_python_and_machine_learning_a4.pdf', 'Machine Learning Full Course - Learn Machine Learning 10 Hours _ Machine Learning Tutorial _ Edureka.mp4', 'machine-learning-projects-python.pdf']\n",
      "\n",
      "directory path : C:\\Users\\Lenovo\\Documents\\py\\ml\\linear regression\n",
      "directory names : ['.ipynb_checkpoints']\n",
      "file names : ['aks.txt', 'cows_and_goats.csv', 'csv_file_01.csv', 'linear_regression.ipynb', 'M R AKILL RAJA - Pandas.png', 'pandas.ipynb', 'Untitled.ipynb', 'Untitled1.ipynb']\n",
      "\n",
      "directory path : C:\\Users\\Lenovo\\Documents\\py\\ml\\linear regression\\.ipynb_checkpoints\n",
      "directory names : []\n",
      "file names : ['linear_regression-checkpoint.ipynb', 'pandas-checkpoint.ipynb', 'Untitled-checkpoint.ipynb', 'Untitled1-checkpoint.ipynb']\n",
      "\n",
      "directory path : C:\\Users\\Lenovo\\Documents\\py\\ml\\ML_IITM\n",
      "directory names : ['WEEK-1', 'WEEK-2', 'WEEK-3', 'WEEK-4']\n",
      "file names : []\n",
      "\n",
      "directory path : C:\\Users\\Lenovo\\Documents\\py\\ml\\ML_IITM\\WEEK-1\n",
      "directory names : []\n",
      "file names : ['mod01lec01.mp4', 'mod01lec02.mp4', 'mod01lec03.mp4', 'mod01lec04.mp4', 'mod01lec05.mp4', 'mod01lec06.mp4', 'mod01lec07.mp4', 'mod01lec08.mp4', 'mod01lec09.mp4', 'mod01lec10.mp4', 'mod01lec11.mp4', 'mod01lec12.mp4', 'mod01lec13.mp4', 'mod01lec14.mp4']\n",
      "\n",
      "directory path : C:\\Users\\Lenovo\\Documents\\py\\ml\\ML_IITM\\WEEK-2\n",
      "directory names : []\n",
      "file names : ['mod02lec15.mp4', 'mod02lec16.mp4', 'mod02lec17.mp4', 'mod02lec18.mp4', 'mod02lec19.mp4', 'mod02lec20.mp4', 'mod02lec21.mp4', 'mod02lec22.mp4', 'mod02lec23.mp4', 'mod02lec24.mp4', 'mod02lec25.mp4', 'mod02lec26.mp4', 'mod03lec27.mp4']\n",
      "\n",
      "directory path : C:\\Users\\Lenovo\\Documents\\py\\ml\\ML_IITM\\WEEK-3\n",
      "directory names : []\n",
      "file names : ['mod03lec28.mp4', 'mod03lec29.mp4', 'mod03lec30.mp4', 'mod03lec31.mp4', 'mod03lec32.mp4', 'mod03lec33.mp4', 'mod03lec34.mp4', 'mod03lec35.mp4', 'mod03lec36.mp4', 'mod03lec37.mp4', 'mod03lec38.mp4', 'mod04lec39.mp4']\n",
      "\n",
      "directory path : C:\\Users\\Lenovo\\Documents\\py\\ml\\ML_IITM\\WEEK-4\n",
      "directory names : []\n",
      "file names : ['mod04lec40.mp4', 'mod04lec41.mp4', 'mod04lec43.mp4', 'mod04lec44.mp4', 'mod04lec45.mp4', 'mod04lec46.mp4']\n",
      "\n"
     ]
    }
   ],
   "source": [
    "#goes into the path check all sub-paths and sub-files inside in it.\n",
    "path=os.getcwd()\n",
    "for i,j,k in os.walk(path):\n",
    "    print(\"directory path :\",i)\n",
    "    print(\"directory names :\",j)\n",
    "    print(\"file names :\",k)\n",
    "    print()\n",
    "    "
   ]
  },
  {
   "cell_type": "code",
   "execution_count": 14,
   "id": "90fa0d12",
   "metadata": {},
   "outputs": [],
   "source": [
    "with open('ak.txt','w') as f:\n",
    "    f.write(\"I Lo** Swi***. \")"
   ]
  },
  {
   "cell_type": "code",
   "execution_count": 15,
   "id": "0dc11f7f",
   "metadata": {},
   "outputs": [
    {
     "data": {
      "text/plain": [
       "'C:\\\\Users\\\\Lenovo\\\\Documents\\\\py\\\\ml'"
      ]
     },
     "execution_count": 15,
     "metadata": {},
     "output_type": "execute_result"
    }
   ],
   "source": [
    "os.getcwd()"
   ]
  },
  {
   "cell_type": "code",
   "execution_count": 16,
   "id": "13a429d4",
   "metadata": {},
   "outputs": [
    {
     "data": {
      "text/plain": [
       "['ak.txt',\n",
       " 'bernd_klein_python_and_machine_learning_a4 (1).pdf',\n",
       " 'bernd_klein_python_and_machine_learning_a4.pdf',\n",
       " 'linear regression',\n",
       " 'Machine Learning Full Course - Learn Machine Learning 10 Hours _ Machine Learning Tutorial _ Edureka.mp4',\n",
       " 'machine-learning-projects-python.pdf',\n",
       " 'ML_IITM']"
      ]
     },
     "execution_count": 16,
     "metadata": {},
     "output_type": "execute_result"
    }
   ],
   "source": [
    "os.listdir()"
   ]
  },
  {
   "cell_type": "code",
   "execution_count": 17,
   "id": "df8541cf",
   "metadata": {},
   "outputs": [
    {
     "ename": "FileExistsError",
     "evalue": "[WinError 183] Cannot create a file when that file already exists: 'C:\\\\Users\\\\Lenovo\\\\Documents\\\\AKS'",
     "output_type": "error",
     "traceback": [
      "\u001b[1;31m---------------------------------------------------------------------------\u001b[0m",
      "\u001b[1;31mFileExistsError\u001b[0m                           Traceback (most recent call last)",
      "\u001b[1;32m~\\AppData\\Local\\Temp\\ipykernel_15460\\820551314.py\u001b[0m in \u001b[0;36m<module>\u001b[1;34m\u001b[0m\n\u001b[0;32m      4\u001b[0m \u001b[0mpath\u001b[0m\u001b[1;33m=\u001b[0m\u001b[1;34m'C:\\\\Users\\\\Lenovo\\\\Documents'\u001b[0m\u001b[1;33m\u001b[0m\u001b[1;33m\u001b[0m\u001b[0m\n\u001b[0;32m      5\u001b[0m \u001b[0mmk\u001b[0m\u001b[1;33m=\u001b[0m\u001b[0mos\u001b[0m\u001b[1;33m.\u001b[0m\u001b[0mpath\u001b[0m\u001b[1;33m.\u001b[0m\u001b[0mjoin\u001b[0m\u001b[1;33m(\u001b[0m\u001b[0mpath\u001b[0m\u001b[1;33m,\u001b[0m\u001b[0mdire\u001b[0m\u001b[1;33m)\u001b[0m\u001b[1;33m\u001b[0m\u001b[1;33m\u001b[0m\u001b[0m\n\u001b[1;32m----> 6\u001b[1;33m \u001b[0mos\u001b[0m\u001b[1;33m.\u001b[0m\u001b[0mmakedirs\u001b[0m\u001b[1;33m(\u001b[0m\u001b[0mmk\u001b[0m\u001b[1;33m)\u001b[0m\u001b[1;33m\u001b[0m\u001b[1;33m\u001b[0m\u001b[0m\n\u001b[0m",
      "\u001b[1;32m~\\anaconda3\\lib\\os.py\u001b[0m in \u001b[0;36mmakedirs\u001b[1;34m(name, mode, exist_ok)\u001b[0m\n\u001b[0;32m    223\u001b[0m             \u001b[1;32mreturn\u001b[0m\u001b[1;33m\u001b[0m\u001b[1;33m\u001b[0m\u001b[0m\n\u001b[0;32m    224\u001b[0m     \u001b[1;32mtry\u001b[0m\u001b[1;33m:\u001b[0m\u001b[1;33m\u001b[0m\u001b[1;33m\u001b[0m\u001b[0m\n\u001b[1;32m--> 225\u001b[1;33m         \u001b[0mmkdir\u001b[0m\u001b[1;33m(\u001b[0m\u001b[0mname\u001b[0m\u001b[1;33m,\u001b[0m \u001b[0mmode\u001b[0m\u001b[1;33m)\u001b[0m\u001b[1;33m\u001b[0m\u001b[1;33m\u001b[0m\u001b[0m\n\u001b[0m\u001b[0;32m    226\u001b[0m     \u001b[1;32mexcept\u001b[0m \u001b[0mOSError\u001b[0m\u001b[1;33m:\u001b[0m\u001b[1;33m\u001b[0m\u001b[1;33m\u001b[0m\u001b[0m\n\u001b[0;32m    227\u001b[0m         \u001b[1;31m# Cannot rely on checking for EEXIST, since the operating system\u001b[0m\u001b[1;33m\u001b[0m\u001b[1;33m\u001b[0m\u001b[0m\n",
      "\u001b[1;31mFileExistsError\u001b[0m: [WinError 183] Cannot create a file when that file already exists: 'C:\\\\Users\\\\Lenovo\\\\Documents\\\\AKS'"
     ]
    }
   ],
   "source": [
    "#how to create a new folder using the os module with os.makedirs().\n",
    "\n",
    "dire='AKS'\n",
    "path='C:\\\\Users\\\\Lenovo\\\\Documents'\n",
    "mk=os.path.join(path,dire)\n",
    "os.makedirs(mk)\n"
   ]
  },
  {
   "cell_type": "code",
   "execution_count": 20,
   "id": "033f85bd",
   "metadata": {},
   "outputs": [],
   "source": [
    "with open('aks.txt','w') as f:   \n",
    "    f.write(\"this is akill here.\")\n"
   ]
  },
  {
   "cell_type": "code",
   "execution_count": 21,
   "id": "40ecadd5",
   "metadata": {},
   "outputs": [
    {
     "name": "stdout",
     "output_type": "stream",
     "text": [
      "os.stat_result(st_mode=33206, st_ino=11540474045167928, st_dev=2494607983, st_nlink=1, st_uid=0, st_gid=0, st_size=19, st_atime=1654453541, st_mtime=1654453540, st_ctime=1654453540) the status of current file.\n",
      "os.stat_result(st_mode=16895, st_ino=20266198323168866, st_dev=2494607983, st_nlink=1, st_uid=0, st_gid=0, st_size=4096, st_atime=1654453541, st_mtime=1654453540, st_ctime=1651146837) the status of the current path \n"
     ]
    }
   ],
   "source": [
    "#get status of the specified path or a file.\n",
    "import os\n",
    "\n",
    "d=os.stat(os.getcwd())\n",
    "a=os.stat('aks.txt')\n",
    "print(a,'the status of current file.')\n",
    "print(d,'the status of the current path ')\n",
    "\n",
    "#meaning \n",
    "#st_mode: It represents file type and file mode bits (permissions).\n",
    "#st_ino: It represents the inode number on Unix and the file index on Windows platform.\n",
    "#st_dev: It represents the identifier of the device on which this file resides.\n",
    "#st_nlink: It represents the number of hard links.\n",
    "#st_uid: It represents the user identifier of the file owner.\n",
    "#st_gid: It represents the group identifier of the file owner.\n",
    "#st_size: It represents the size of the file in bytes.\n",
    "#st_atime: It represents the time of most recent access. It is expressed in seconds.\n",
    "#st_mtime: It represents the time of most recent content modification. It is expressed in seconds.\n",
    "#st_ctime: It represents the time of most recent metadata change on Unix and creation time on Windows. It is expressed in seconds\n",
    "\n"
   ]
  },
  {
   "cell_type": "code",
   "execution_count": 33,
   "id": "5ebeb3b9",
   "metadata": {},
   "outputs": [
    {
     "name": "stdout",
     "output_type": "stream",
     "text": [
      "os.stat_result(st_mode=16895, st_ino=562949953606651, st_dev=2494607983, st_nlink=1, st_uid=0, st_gid=0, st_size=4096, st_atime=1654326795, st_mtime=1641937590, st_ctime=1575710092)\n"
     ]
    }
   ],
   "source": [
    "#os.environ():\"mapping object that represents the user’s environmental variables and returns in key-value pair\"\n",
    "\n",
    "print(os.stat(os.environ.get('COMMONPROGRAMFILES')))"
   ]
  },
  {
   "cell_type": "code",
   "execution_count": 2,
   "id": "f70658aa",
   "metadata": {},
   "outputs": [
    {
     "data": {
      "text/plain": [
       "0"
      ]
     },
     "execution_count": 2,
     "metadata": {},
     "output_type": "execute_result"
    }
   ],
   "source": [
    "import os\n",
    "os.chdir('C:\\\\Users\\\\Lenovo')\n",
    "cmd='dir'\n",
    "os.system(cmd)\n"
   ]
  },
  {
   "cell_type": "code",
   "execution_count": null,
   "id": "5580c775",
   "metadata": {},
   "outputs": [],
   "source": []
  }
 ],
 "metadata": {
  "kernelspec": {
   "display_name": "Python 3 (ipykernel)",
   "language": "python",
   "name": "python3"
  },
  "language_info": {
   "codemirror_mode": {
    "name": "ipython",
    "version": 3
   },
   "file_extension": ".py",
   "mimetype": "text/x-python",
   "name": "python",
   "nbconvert_exporter": "python",
   "pygments_lexer": "ipython3",
   "version": "3.9.7"
  }
 },
 "nbformat": 4,
 "nbformat_minor": 5
}
