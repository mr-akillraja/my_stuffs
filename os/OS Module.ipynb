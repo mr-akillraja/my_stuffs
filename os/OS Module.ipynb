{
 "cells": [
  {
   "cell_type": "code",
   "execution_count": 1,
   "id": "b2281269",
   "metadata": {},
   "outputs": [
    {
     "name": "stdout",
     "output_type": "stream",
     "text": [
      "\t\t\t\t\t Setup Finished \n",
      " \t\t\t\t Operating System(OS) Module Examples\n",
      "\n"
     ]
    }
   ],
   "source": [
    "#importing the os\n",
    "import os\n",
    "print(\"\\t\\t\\t\\t\\t Setup Finished \\n \\t\\t\\t\\t Operating System(OS) Module Examples\\n\")"
   ]
  },
  {
   "cell_type": "code",
   "execution_count": 27,
   "id": "926bb63a",
   "metadata": {},
   "outputs": [
    {
     "name": "stdout",
     "output_type": "stream",
     "text": [
      "['DirEntry', 'F_OK', 'GenericAlias', 'Mapping', 'MutableMapping', 'O_APPEND', 'O_BINARY', 'O_CREAT', 'O_EXCL', 'O_NOINHERIT', 'O_RANDOM', 'O_RDONLY', 'O_RDWR', 'O_SEQUENTIAL', 'O_SHORT_LIVED', 'O_TEMPORARY', 'O_TEXT', 'O_TRUNC', 'O_WRONLY', 'P_DETACH', 'P_NOWAIT', 'P_NOWAITO', 'P_OVERLAY', 'P_WAIT', 'PathLike', 'R_OK', 'SEEK_CUR', 'SEEK_END', 'SEEK_SET', 'TMP_MAX', 'W_OK', 'X_OK', '_AddedDllDirectory', '_Environ', '__all__', '__builtins__', '__cached__', '__doc__', '__file__', '__loader__', '__name__', '__package__', '__spec__', '_check_methods', '_execvpe', '_exists', '_exit', '_fspath', '_get_exports_list', '_walk', '_wrap_close', 'abc', 'abort', 'access', 'add_dll_directory', 'altsep', 'chdir', 'chmod', 'close', 'closerange', 'cpu_count', 'curdir', 'defpath', 'device_encoding', 'devnull', 'dup', 'dup2', 'environ', 'error', 'execl', 'execle', 'execlp', 'execlpe', 'execv', 'execve', 'execvp', 'execvpe', 'extsep', 'fdopen', 'fsdecode', 'fsencode', 'fspath', 'fstat', 'fsync', 'ftruncate', 'get_exec_path', 'get_handle_inheritable', 'get_inheritable', 'get_terminal_size', 'getcwd', 'getcwdb', 'getenv', 'getlogin', 'getpid', 'getppid', 'isatty', 'kill', 'linesep', 'link', 'listdir', 'lseek', 'lstat', 'makedirs', 'mkdir', 'name', 'open', 'pardir', 'path', 'pathsep', 'pipe', 'popen', 'putenv', 'read', 'readlink', 'remove', 'removedirs', 'rename', 'renames', 'replace', 'rmdir', 'scandir', 'sep', 'set_handle_inheritable', 'set_inheritable', 'spawnl', 'spawnle', 'spawnv', 'spawnve', 'st', 'startfile', 'stat', 'stat_result', 'statvfs_result', 'strerror', 'supports_bytes_environ', 'supports_dir_fd', 'supports_effective_ids', 'supports_fd', 'supports_follow_symlinks', 'symlink', 'sys', 'system', 'terminal_size', 'times', 'times_result', 'truncate', 'umask', 'uname_result', 'unlink', 'unsetenv', 'urandom', 'utime', 'waitpid', 'waitstatus_to_exitcode', 'walk', 'write']\n"
     ]
    }
   ],
   "source": [
    "#printing the all directory using os\n",
    "print(dir(os))"
   ]
  },
  {
   "cell_type": "code",
   "execution_count": 31,
   "id": "5f554803",
   "metadata": {},
   "outputs": [
    {
     "name": "stdout",
     "output_type": "stream",
     "text": [
      "C:\\Users\\Admin\\Desktop\\Python\\OS\n"
     ]
    }
   ],
   "source": [
    "#get the current directory for the file \n",
    "curr_dir = os.getcwd()\n",
    "print(curr_dir)"
   ]
  },
  {
   "cell_type": "code",
   "execution_count": 3,
   "id": "ca902659",
   "metadata": {},
   "outputs": [
    {
     "name": "stdout",
     "output_type": "stream",
     "text": [
      "C:\\Users\\Admin\\Desktop\\Movies\n"
     ]
    }
   ],
   "source": [
    "#changing the directory using chdir()\n",
    "os.chdir(\"C:\\\\Users\\\\Admin\\\\Desktop\\\\Movies\")\n",
    "print(os.getcwd())"
   ]
  },
  {
   "cell_type": "code",
   "execution_count": 10,
   "id": "f94ae227",
   "metadata": {},
   "outputs": [
    {
     "name": "stdout",
     "output_type": "stream",
     "text": [
      "C:\\Users\\Admin\\Desktop\\Python\\OS\n"
     ]
    }
   ],
   "source": [
    "#change the directory to default\n",
    "os.chdir(\"C:\\\\Users\\\\Admin\\\\Desktop\\\\Python\\\\OS\")\n",
    "print(os.getcwd())"
   ]
  },
  {
   "cell_type": "code",
   "execution_count": 23,
   "id": "a26d1904",
   "metadata": {},
   "outputs": [],
   "source": [
    "#opening a file in current directory\n",
    "with open(\"test.txt\", 'w') as f:\n",
    "    f.write(\"This is test file in os module example\")"
   ]
  },
  {
   "cell_type": "code",
   "execution_count": 6,
   "id": "ec2f0e88",
   "metadata": {},
   "outputs": [
    {
     "name": "stdout",
     "output_type": "stream",
     "text": [
      "['.ipynb_checkpoints', 'Data_vis', 'de.py', 'Exam_seating', 'Games', 'index.html', 'main.py', 'OS', 'Pandas', 'Python videos', 'test1.txt']\n"
     ]
    }
   ],
   "source": [
    "#printing the list of the current folder directory\n",
    "print(os.listdir())"
   ]
  },
  {
   "cell_type": "code",
   "execution_count": 7,
   "id": "803c0b9c",
   "metadata": {},
   "outputs": [
    {
     "name": "stdout",
     "output_type": "stream",
     "text": [
      "['.ipynb_checkpoints', 'Data Visualization.ipynb', 'fifa.csv', 'foot.csv', 'Iris.csv', 'Os_module_sample']\n"
     ]
    }
   ],
   "source": [
    "#list the sub-folder or files above\n",
    "print(os.listdir(\"Data_vis\"))"
   ]
  },
  {
   "cell_type": "code",
   "execution_count": 17,
   "id": "c7b32700",
   "metadata": {},
   "outputs": [
    {
     "name": "stdout",
     "output_type": "stream",
     "text": [
      "None\n"
     ]
    }
   ],
   "source": [
    "#make the new directory\n",
    "print(os.mkdir(\"Os_module_sample\"))"
   ]
  },
  {
   "cell_type": "code",
   "execution_count": 24,
   "id": "dd05a208",
   "metadata": {},
   "outputs": [],
   "source": [
    "#renaming the text file test1 to test\n",
    "os.rename(\"test.txt\", \"test_new.txt\")"
   ]
  },
  {
   "cell_type": "code",
   "execution_count": 25,
   "id": "4667501f",
   "metadata": {},
   "outputs": [],
   "source": [
    "#removing the test_new.txt file\n",
    "os.remove(\"test_new.txt\")"
   ]
  },
  {
   "cell_type": "code",
   "execution_count": 29,
   "id": "a8dfc3d0",
   "metadata": {},
   "outputs": [
    {
     "name": "stdout",
     "output_type": "stream",
     "text": [
      "Directory Path:  C:\\Users\\Admin\\Desktop\\Python\\OS\n",
      "Directory Names:  ['.ipynb_checkpoints']\n",
      "File Names:  ['OS Module.ipynb']\n",
      "\n",
      "Directory Path:  C:\\Users\\Admin\\Desktop\\Python\\OS\\.ipynb_checkpoints\n",
      "Directory Names:  []\n",
      "File Names:  ['OS Module-checkpoint.ipynb']\n",
      "\n"
     ]
    }
   ],
   "source": [
    "#walk into the directory \n",
    "os.getcwd()\n",
    "for dirpath, dirnames, filenames in os.walk('C:\\\\Users\\\\Admin\\\\Desktop\\\\Python\\\\OS'):\n",
    "    print(\"Directory Path: \",dirpath )\n",
    "    print(\"Directory Names: \", dirnames)\n",
    "    print(\"File Names: \", filenames)\n",
    "    print()"
   ]
  },
  {
   "cell_type": "code",
   "execution_count": 32,
   "id": "8755adb7",
   "metadata": {},
   "outputs": [
    {
     "name": "stdout",
     "output_type": "stream",
     "text": [
      "None\n"
     ]
    }
   ],
   "source": [
    "#print the home environment\n",
    "print(os.environ.get('HOME'))"
   ]
  },
  {
   "cell_type": "code",
   "execution_count": null,
   "id": "f14fec08",
   "metadata": {},
   "outputs": [],
   "source": []
  }
 ],
 "metadata": {
  "kernelspec": {
   "display_name": "Python 3 (ipykernel)",
   "language": "python",
   "name": "python3"
  },
  "language_info": {
   "codemirror_mode": {
    "name": "ipython",
    "version": 3
   },
   "file_extension": ".py",
   "mimetype": "text/x-python",
   "name": "python",
   "nbconvert_exporter": "python",
   "pygments_lexer": "ipython3",
   "version": "3.9.7"
  }
 },
 "nbformat": 4,
 "nbformat_minor": 5
}
