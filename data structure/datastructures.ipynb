{
 "cells": [
  {
   "cell_type": "code",
   "execution_count": 39,
   "id": "7d68020c",
   "metadata": {},
   "outputs": [
    {
     "name": "stdout",
     "output_type": "stream",
     "text": [
      "12\n",
      "3\n",
      "45\n",
      "6\n",
      "34\n",
      "5\n",
      "67\n",
      "43\n",
      "4\n",
      "56\n",
      "5\n",
      "56\n"
     ]
    }
   ],
   "source": [
    "from array import *\n",
    "\n",
    "arr = array('i',[12,3,45,6,34,5,67,43,4,56,5,56])\n",
    "\n",
    "#looping through the array :\n",
    "for array_elements in arr:\n",
    "    print(array_elements)\n",
    "    \n",
    "# type code for the array\n",
    "            # b\tRepresents signed integer of size 1 byte\n",
    "            # B\tRepresents unsigned integer of size 1 byte\n",
    "            # c\tRepresents character of size 1 byte\n",
    "            # i\tRepresents signed integer of size 2 bytes\n",
    "            # I\tRepresents unsigned integer of size 2 bytes\n",
    "            # f\tRepresents floating point of size 4 bytes\n",
    "            # d\tRepresents floating point of size 8 bytes"
   ]
  },
  {
   "cell_type": "code",
   "execution_count": 43,
   "id": "62c4cb2a",
   "metadata": {},
   "outputs": [
    {
     "name": "stdout",
     "output_type": "stream",
     "text": [
      "3\n",
      "array('i', [56, 5, 56, 4, 43, 67, 5, 34, 6, 45, 3, 12])\n",
      "array('i', [6, 34, 5, 67, 43, 4])\n"
     ]
    }
   ],
   "source": [
    "#accessing the array using the index.\n",
    "\n",
    "print(arr[1])\n",
    "print(arr[::-1])\n",
    "print(arr[3:9])"
   ]
  },
  {
   "cell_type": "code",
   "execution_count": 56,
   "id": "4fcd6b1c",
   "metadata": {},
   "outputs": [
    {
     "name": "stdout",
     "output_type": "stream",
     "text": [
      "array('i', [12, 33, 3, 45, 6, 34, 5, 67, 43, 4, 56, 5, 56])\n"
     ]
    }
   ],
   "source": [
    "#insertion operation in a array\n",
    "\n",
    "arr = array('i',[12,3,45,6,34,5,67,43,4,56,5,56])\n",
    "\n",
    "arr.insert(1,33)\n",
    "print(arr)"
   ]
  },
  {
   "cell_type": "code",
   "execution_count": 62,
   "id": "a34a36cb",
   "metadata": {},
   "outputs": [
    {
     "name": "stdout",
     "output_type": "stream",
     "text": [
      "array('i', [12, 3, 45, 34, 5, 67, 43, 4, 56, 5, 56])\n"
     ]
    }
   ],
   "source": [
    " # deletion of the array in the list  using the element\n",
    "arr = array('i',[12,3,45,6,34,5,67,43,4,56,5,56])\n",
    "\n",
    "arr.remove(6)\n",
    "print(arr)"
   ]
  },
  {
   "cell_type": "code",
   "execution_count": 65,
   "id": "66608c7e",
   "metadata": {},
   "outputs": [
    {
     "name": "stdout",
     "output_type": "stream",
     "text": [
      "9\n"
     ]
    }
   ],
   "source": [
    "# seraching the elements using the indexes\n",
    "\n",
    "arr = array('i',[12,3,45,6,34,5,67,43,4,56,5,56])\n",
    "print(arr.index(56))"
   ]
  },
  {
   "cell_type": "code",
   "execution_count": 66,
   "id": "821ca8ee",
   "metadata": {},
   "outputs": [
    {
     "name": "stdout",
     "output_type": "stream",
     "text": [
      "array('i', [12, 3, 45, 6, 67, 5, 67, 43, 4, 56, 5, 56])\n"
     ]
    }
   ],
   "source": [
    "# updation of the list using the index to change the value .\n",
    "\n",
    "arr = array('i',[12,3,45,6,34,5,67,43,4,56,5,56])\n",
    "\n",
    "arr[4]=67\n",
    "print(arr)"
   ]
  },
  {
   "cell_type": "code",
   "execution_count": 114,
   "id": "666deb11",
   "metadata": {},
   "outputs": [
    {
     "name": "stdout",
     "output_type": "stream",
     "text": [
      "array('i', [3, 4, 5, 5, 6, 12, 34, 43, 45, 56, 56, 67])\n"
     ]
    }
   ],
   "source": [
    "# sorting of an array . \n",
    "\n",
    "arr = array('i',[12,3,45,6,34,5,67,43,4,56,5,56])\n",
    "\n",
    "for i in range(len(arr)):\n",
    "    for i in range(len(arr)):\n",
    "        for j in range(i+1,len(arr)):\n",
    "            if arr[i] > arr[j]:\n",
    "                arr[i],arr[j] = arr[j],arr[i]\n",
    "print(arr)"
   ]
  },
  {
   "cell_type": "code",
   "execution_count": 112,
   "id": "3d9fa1f2",
   "metadata": {},
   "outputs": [
    {
     "name": "stdout",
     "output_type": "stream",
     "text": [
      "[3, 4, 5, 5, 6, 12, 34, 43, 45, 56, 56, 67]\n"
     ]
    }
   ],
   "source": [
    "arr = [12,3,45,6,34,5,67,43,4,56,5,56]\n",
    "for i in range(len(arr)):\n",
    "    for j in range(i+1,len(arr)):\n",
    "        if arr[i] > arr[j]:\n",
    "            arr[i],arr[j] = arr[j],arr[i]\n",
    "print(arr)"
   ]
  },
  {
   "cell_type": "code",
   "execution_count": null,
   "id": "158b2fbc",
   "metadata": {},
   "outputs": [],
   "source": []
  },
  {
   "cell_type": "code",
   "execution_count": null,
   "id": "73ce2865",
   "metadata": {},
   "outputs": [],
   "source": []
  },
  {
   "cell_type": "code",
   "execution_count": null,
   "id": "c67fa9ed",
   "metadata": {},
   "outputs": [],
   "source": []
  },
  {
   "cell_type": "code",
   "execution_count": null,
   "id": "dc31e1d9",
   "metadata": {},
   "outputs": [],
   "source": []
  },
  {
   "cell_type": "raw",
   "id": "25805151",
   "metadata": {},
   "source": []
  },
  {
   "cell_type": "code",
   "execution_count": null,
   "id": "138b0f1b",
   "metadata": {},
   "outputs": [],
   "source": []
  },
  {
   "cell_type": "code",
   "execution_count": null,
   "id": "e640948c",
   "metadata": {},
   "outputs": [],
   "source": []
  },
  {
   "cell_type": "code",
   "execution_count": null,
   "id": "1917b7d2",
   "metadata": {},
   "outputs": [],
   "source": []
  },
  {
   "cell_type": "code",
   "execution_count": null,
   "id": "648abb3e",
   "metadata": {},
   "outputs": [],
   "source": []
  },
  {
   "cell_type": "code",
   "execution_count": null,
   "id": "d6a5b056",
   "metadata": {},
   "outputs": [],
   "source": []
  },
  {
   "cell_type": "code",
   "execution_count": null,
   "id": "3204a705",
   "metadata": {},
   "outputs": [],
   "source": []
  },
  {
   "cell_type": "code",
   "execution_count": null,
   "id": "6ead8898",
   "metadata": {},
   "outputs": [],
   "source": []
  },
  {
   "cell_type": "code",
   "execution_count": null,
   "id": "de9d022e",
   "metadata": {},
   "outputs": [],
   "source": []
  },
  {
   "cell_type": "code",
   "execution_count": null,
   "id": "14632683",
   "metadata": {},
   "outputs": [],
   "source": [
    "from array import *\n",
    "\n",
    "arr = array('i',[12,3,45,6,34,5,67,43,4,56,5,56])\n",
    "\n",
    "print([ 'even' if array_elements%2==0 else 'odd' for array_elements in arr  ])\n",
    "    "
   ]
  }
 ],
 "metadata": {
  "kernelspec": {
   "display_name": "Python 3 (ipykernel)",
   "language": "python",
   "name": "python3"
  },
  "language_info": {
   "codemirror_mode": {
    "name": "ipython",
    "version": 3
   },
   "file_extension": ".py",
   "mimetype": "text/x-python",
   "name": "python",
   "nbconvert_exporter": "python",
   "pygments_lexer": "ipython3",
   "version": "3.9.7"
  }
 },
 "nbformat": 4,
 "nbformat_minor": 5
}
