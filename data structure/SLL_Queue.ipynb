{
 "cells": [
  {
   "cell_type": "markdown",
   "id": "0dc71580",
   "metadata": {},
   "source": [
    "# singly linked list implementation on Queue .\n",
    "  \n",
    "   ## operation on   Queue .\n",
    "        1. Enqueue opertion \n",
    "        2.Dequeue operation \n",
    "        3.display operation\n",
    "\n",
    "   ## methods are following:\n",
    "        1.general class method . \n",
    "        2.using collections module \n",
    "        3.using the concept of the singly linke list . "
   ]
  },
  {
   "cell_type": "code",
   "execution_count": 24,
   "id": "28b8a6d0",
   "metadata": {},
   "outputs": [
    {
     "data": {
      "text/plain": [
       "[12, 1, 11, 33]"
      ]
     },
     "execution_count": 24,
     "metadata": {},
     "output_type": "execute_result"
    }
   ],
   "source": [
    "class queue:\n",
    "    def __init__(self):\n",
    "        self.queue = []\n",
    "        \n",
    "    def enqueue(self,element):\n",
    "        return self.queue.append(element)\n",
    "        \n",
    "    def dequeue(self):\n",
    "        return self.queue.pop(0)\n",
    "    \n",
    "    def dis(self):\n",
    "        return self.queue\n",
    "\n",
    "obj = queue()\n",
    "obj.enqueue(12)\n",
    "obj.enqueue(1)\n",
    "obj.enqueue(11)\n",
    "obj.enqueue(33)\n",
    "#obj.dequeue()\n",
    "obj.dis()"
   ]
  },
  {
   "cell_type": "code",
   "execution_count": null,
   "id": "adba0ff3",
   "metadata": {},
   "outputs": [],
   "source": [
    "\n",
    "#creation of node class .\n",
    "class node:\n",
    "    def __init__(self,data):\n",
    "        self.data = data # using constructor creating data element .\n",
    "        self.ref = None # creating reference has None.\n",
    "\n",
    "#creation of queue class .\n",
    "class queue:\n",
    "    def __init__(self): \n",
    "        self.head = None # creating self.head has None .\n",
    "        \n",
    "    def enqueue(self,element): # creating method named enqueue with appending element .\n",
    "        new_node = node(element) # creation of new node using node class . \n",
    "        if self.head is None: # if the linked list is empty. adding element to the linked list . \n",
    "            self.head = new_node # declaring self.head  is new_node . \n",
    "        else:    \n",
    "            new_node.ref = self.head # new_node reference to the self.head interchanging the link . \n",
    "            self.head = new_node  # making the head node to the new_node inserted .\n",
    "    \n",
    "    def dequeue(self): # creating method named dequeue .\n",
    "        temp = self.head.ref # creating a temp variable pointing next to the head node .\n",
    "        prev = self.head # creating a prev variable pointing to the head node . \n",
    "        while temp.ref: # traversing till the end of the linked list .\n",
    "            temp = temp.ref # iterating all the nodes by increasing the value of the temp .\n",
    "            prev = prev.ref # iterating all the nodes by increasing the value of the prev .\n",
    "        prev.ref = None # making the last node has None . so that the last node is deleted . \n",
    "        \n",
    "    def dis(self):\n",
    "        new = self.head \n",
    "        while new:\n",
    "            print(\"-->> \",new.data,end='')\n",
    "            new = new.ref\n",
    "\n",
    "\n",
    "ob = queue()\n",
    "ob.enqueue(12)\n",
    "ob.enqueue(18)\n",
    "ob.enqueue(183)\n",
    "ob.enqueue(134)\n",
    "ob.enqueue(108)\n",
    "ob.enqueue(1)\n",
    "ob.dequeue()\n",
    "ob.dis()\n",
    "\n",
    "    \n",
    "        "
   ]
  }
 ],
 "metadata": {
  "kernelspec": {
   "display_name": "Python 3 (ipykernel)",
   "language": "python",
   "name": "python3"
  },
  "language_info": {
   "codemirror_mode": {
    "name": "ipython",
    "version": 3
   },
   "file_extension": ".py",
   "mimetype": "text/x-python",
   "name": "python",
   "nbconvert_exporter": "python",
   "pygments_lexer": "ipython3",
   "version": "3.9.7"
  }
 },
 "nbformat": 4,
 "nbformat_minor": 5
}
