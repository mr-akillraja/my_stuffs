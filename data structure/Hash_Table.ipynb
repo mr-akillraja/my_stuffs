{
 "cells": [
  {
   "cell_type": "markdown",
   "id": "ea0d3ac1",
   "metadata": {},
   "source": [
    "# Hash Table\n",
    "   ## dictionary \n",
    "   ## Hash "
   ]
  },
  {
   "cell_type": "code",
   "execution_count": 1,
   "id": "f51331e4",
   "metadata": {},
   "outputs": [
    {
     "name": "stdout",
     "output_type": "stream",
     "text": [
      "{'name': 'Anu', 'class': 'b.tech(ece)'}\n",
      "<class 'dict'>\n"
     ]
    }
   ],
   "source": [
    "\n",
    "# creation of dictionary using curely braces . \n",
    "my_dict = {'name':'Anu','class':'b.tech(ece)'}\n",
    "print(my_dict)\n",
    "print(type(my_dict))"
   ]
  },
  {
   "cell_type": "code",
   "execution_count": 2,
   "id": "caee76af",
   "metadata": {},
   "outputs": [
    {
     "name": "stdout",
     "output_type": "stream",
     "text": [
      "{'name': 'Anu', 'class_': 'B.Tech(cse)'}\n",
      "<class 'dict'>\n"
     ]
    }
   ],
   "source": [
    "# creation of dictionary using dict function . \n",
    "\n",
    "my_dict = dict(name = 'Anu',class_ = \"B.Tech(cse)\" )\n",
    "print(my_dict)\n",
    "print(type(my_dict))"
   ]
  },
  {
   "cell_type": "code",
   "execution_count": 3,
   "id": "3cf4ae86",
   "metadata": {},
   "outputs": [
    {
     "name": "stdout",
     "output_type": "stream",
     "text": [
      "{'name': 'Anu', 'class_': 'B.Tech(cse)'}\n"
     ]
    }
   ],
   "source": [
    "# nested dictionary . \n",
    "\n",
    "my_dict1 = {'employee':{'Anu':{'salary':12000},'designation':\"Team Leader\"},\n",
    "                      'Akill':{'salary':130000,'designation':'Team Member'}}\n",
    "print(my_dict)"
   ]
  },
  {
   "cell_type": "code",
   "execution_count": 4,
   "id": "6c20b9f7",
   "metadata": {},
   "outputs": [
    {
     "name": "stdout",
     "output_type": "stream",
     "text": [
      "dict_keys(['name', 'class_'])\n"
     ]
    }
   ],
   "source": [
    "# how to get the keys in a dictionary .\n",
    "\n",
    "\n",
    "print(my_dict.keys())"
   ]
  },
  {
   "cell_type": "code",
   "execution_count": 5,
   "id": "ab84e1e0",
   "metadata": {},
   "outputs": [
    {
     "name": "stdout",
     "output_type": "stream",
     "text": [
      "dict_values(['Anu', 'B.Tech(cse)'])\n"
     ]
    }
   ],
   "source": [
    "# how to get the values in a dictionary .\n",
    "\n",
    "print(my_dict.values())"
   ]
  },
  {
   "cell_type": "code",
   "execution_count": 6,
   "id": "ff08cc02",
   "metadata": {},
   "outputs": [
    {
     "name": "stdout",
     "output_type": "stream",
     "text": [
      "name\n",
      "class_\n"
     ]
    }
   ],
   "source": [
    "# looping thorugh the keys in a dictionary .\n",
    "\n",
    "for i in my_dict:\n",
    "    print(i)"
   ]
  },
  {
   "cell_type": "code",
   "execution_count": 7,
   "id": "1791a6d1",
   "metadata": {},
   "outputs": [
    {
     "name": "stdout",
     "output_type": "stream",
     "text": [
      "Anu\n",
      "B.Tech(cse)\n"
     ]
    }
   ],
   "source": [
    "# looping through the values in a dictionary .\n",
    "\n",
    "for i in my_dict.values():\n",
    "    print(i)"
   ]
  },
  {
   "cell_type": "code",
   "execution_count": 8,
   "id": "f812cb01",
   "metadata": {},
   "outputs": [
    {
     "name": "stdout",
     "output_type": "stream",
     "text": [
      "name Anu\n",
      "class_ B.Tech(cse)\n"
     ]
    }
   ],
   "source": [
    "# looping through the dictionary .\n",
    " \n",
    "for  x,y in my_dict.items():\n",
    "    print(x,y)"
   ]
  },
  {
   "cell_type": "code",
   "execution_count": 9,
   "id": "b4fe15b3",
   "metadata": {},
   "outputs": [
    {
     "name": "stdout",
     "output_type": "stream",
     "text": [
      "{'name': 'Anu', 'class_': 'B.Tech(Ece)'}\n"
     ]
    }
   ],
   "source": [
    "# updating the dictionary .\n",
    "\n",
    "my_dict['class_'] = 'B.Tech(Ece)'\n",
    "print(my_dict)"
   ]
  },
  {
   "cell_type": "code",
   "execution_count": 10,
   "id": "3c5ee215",
   "metadata": {},
   "outputs": [
    {
     "name": "stdout",
     "output_type": "stream",
     "text": [
      "B.Tech(Ece)\n"
     ]
    }
   ],
   "source": [
    "# deleting the items from a dictionary .\n",
    "\n",
    "print(my_dict.pop('class_'))\n"
   ]
  },
  {
   "cell_type": "code",
   "execution_count": 11,
   "id": "9edafe2f",
   "metadata": {},
   "outputs": [
    {
     "data": {
      "text/plain": [
       "['happiest day ',\n",
       " None,\n",
       " 'my and my ex day',\n",
       " None,\n",
       " 'nice day',\n",
       " 'somewhat okay!',\n",
       " 'well good',\n",
       " 'worst ever.',\n",
       " 'extraordinary ',\n",
       " 'happy ',\n",
       " None,\n",
       " None,\n",
       " None,\n",
       " None,\n",
       " None,\n",
       " None,\n",
       " None,\n",
       " None,\n",
       " None,\n",
       " None,\n",
       " None,\n",
       " None,\n",
       " None,\n",
       " None,\n",
       " None,\n",
       " None,\n",
       " None,\n",
       " None,\n",
       " None,\n",
       " None,\n",
       " None,\n",
       " 'bad',\n",
       " 'my day',\n",
       " 'devils day',\n",
       " None,\n",
       " None,\n",
       " None,\n",
       " None,\n",
       " None,\n",
       " None,\n",
       " None,\n",
       " None,\n",
       " None,\n",
       " None,\n",
       " None,\n",
       " None,\n",
       " None,\n",
       " None,\n",
       " None,\n",
       " None,\n",
       " None,\n",
       " None,\n",
       " None,\n",
       " None,\n",
       " None,\n",
       " None,\n",
       " None,\n",
       " None,\n",
       " None,\n",
       " None,\n",
       " None,\n",
       " None,\n",
       " None,\n",
       " None,\n",
       " None,\n",
       " None,\n",
       " None,\n",
       " None,\n",
       " None,\n",
       " None,\n",
       " None,\n",
       " None,\n",
       " None,\n",
       " None,\n",
       " None,\n",
       " None,\n",
       " None,\n",
       " None,\n",
       " None,\n",
       " None,\n",
       " None,\n",
       " None,\n",
       " None,\n",
       " None,\n",
       " None,\n",
       " None,\n",
       " None,\n",
       " None,\n",
       " None,\n",
       " None,\n",
       " None,\n",
       " None,\n",
       " None,\n",
       " None,\n",
       " None,\n",
       " None,\n",
       " 'hot day',\n",
       " None,\n",
       " None,\n",
       " None]"
      ]
     },
     "execution_count": 11,
     "metadata": {},
     "output_type": "execute_result"
    }
   ],
   "source": [
    "# creating a hash table .\n",
    "class hashtable:\n",
    "    def __init__(self):\n",
    "        self.max = 100 # setting the maximum value of the list .\n",
    "        self.arr = [None for i in range(self.max)] # creating the list with the max number and assigning it has None . \n",
    "    \n",
    "    #creating method called item .\n",
    "    def item(self,keys): # getting the keys .\n",
    "        self.keys = keys\n",
    "        h = 0  # assigning the hash has zero .\n",
    "        for char in self.keys: # iterating to the given keys\n",
    "            h += ord(char) # suming the ascii values of each item in the keys .\n",
    "        return h%self.max # using mod function we are getting the remainder of sum  .\n",
    "\n",
    "    def __setitem__(self,key,value):# using __setter__ method in list to set the value to given index from the item method .\n",
    "        adding_value = self.item(key) # getting the key from the user and calling the item class for getting the index value .\n",
    "        self.arr[adding_value] = value # by getting the index value. assigning it to the arr[index] so that value is assigned to the index in the arr.\n",
    "    \n",
    "    def __getitem__(self,key): # using __getter__ method in list to get the values from the array .\n",
    "        getting_value = self.item(key)  # getting the key from the user and calling the item class for getting the index value .\n",
    "        return self.arr[getting_value] # by getting the key directly accessing the value from the arr using the index .\n",
    "        \n",
    "    def delete_item(self,value): # deleting the value .\n",
    "        self.arr.pop(value) # using pop operation we are deleting the item from the arr .\n",
    "        \n",
    "        \n",
    "ob = hashtable()\n",
    "ob['march 1'] = \"nice day\"\n",
    "ob['march 2'] = \"somewhat okay!\"\n",
    "ob['march 3'] = \"well good\"\n",
    "ob['march 4'] = \"worst ever.\"\n",
    "ob['march 5'] = \"extraordinary \"\n",
    "ob['march 6'] = \"happy \"\n",
    "ob['october 1'] = \"bad\"\n",
    "ob['october 2'] = \"my day\"\n",
    "ob['october 3'] = \"devils day\"\n",
    "ob['november 24'] = \"hot day\"\n",
    "ob['january 19'] = \"happiest day \"\n",
    "ob['february 19'] = \"my and my ex day\"\n",
    "\n",
    "\n",
    "ob['october 1']\n",
    "\n",
    "\n",
    "\n",
    "\n",
    "\n",
    "ob.arr"
   ]
  },
  {
   "cell_type": "code",
   "execution_count": 12,
   "id": "d8c80b88",
   "metadata": {},
   "outputs": [
    {
     "data": {
      "text/plain": [
       "[[('january 19', 'happiest day ')],\n",
       " [],\n",
       " [('february 19', 'my and my ex day')],\n",
       " [],\n",
       " [('march 1', 'nice day')],\n",
       " [('march 2', 'somewhat okay!')],\n",
       " [('march 3', 'well good')],\n",
       " [('march 4', 'worst ever.')],\n",
       " [('march 5', 'extraordinary ')],\n",
       " [('march 6', 'happy ')],\n",
       " [],\n",
       " [],\n",
       " [],\n",
       " [],\n",
       " [],\n",
       " [],\n",
       " [],\n",
       " [],\n",
       " [],\n",
       " [],\n",
       " [],\n",
       " [],\n",
       " [],\n",
       " [],\n",
       " [],\n",
       " [],\n",
       " [],\n",
       " [],\n",
       " [],\n",
       " [],\n",
       " [],\n",
       " [('october 1', 'bad'), ('class_', 'B.Tech(cse)')],\n",
       " [('october 2', 'my day')],\n",
       " [('october 3', 'devils day')],\n",
       " [],\n",
       " [],\n",
       " [],\n",
       " [],\n",
       " [],\n",
       " [],\n",
       " [],\n",
       " [],\n",
       " [],\n",
       " [],\n",
       " [],\n",
       " [],\n",
       " [],\n",
       " [],\n",
       " [],\n",
       " [],\n",
       " [],\n",
       " [],\n",
       " [],\n",
       " [],\n",
       " [],\n",
       " [],\n",
       " [],\n",
       " [],\n",
       " [],\n",
       " [],\n",
       " [],\n",
       " [],\n",
       " [],\n",
       " [],\n",
       " [],\n",
       " [],\n",
       " [],\n",
       " [],\n",
       " [],\n",
       " [],\n",
       " [],\n",
       " [],\n",
       " [],\n",
       " [],\n",
       " [],\n",
       " [],\n",
       " [],\n",
       " [],\n",
       " [],\n",
       " [],\n",
       " [],\n",
       " [],\n",
       " [],\n",
       " [],\n",
       " [],\n",
       " [],\n",
       " [],\n",
       " [],\n",
       " [],\n",
       " [],\n",
       " [],\n",
       " [],\n",
       " [],\n",
       " [],\n",
       " [],\n",
       " [],\n",
       " [('november 24', 'hot day')],\n",
       " [],\n",
       " [],\n",
       " []]"
      ]
     },
     "execution_count": 12,
     "metadata": {},
     "output_type": "execute_result"
    }
   ],
   "source": [
    "# creating a hash table .\n",
    "class hashtable:\n",
    "    def __init__(self):\n",
    "        self.max = 100 # setting the maximum value of the list .\n",
    "        self.arr = [[] for i in range(self.max)] # creating the list with the max number and assigning it has None . \n",
    "    \n",
    "    #creating method called item .\n",
    "    def item(self,keys): # getting the keys .\n",
    "        self.keys = keys\n",
    "        h = 0  # assigning the hash has zero .\n",
    "        for char in self.keys: # iterating to the given keys\n",
    "            h += ord(char) # suming the ascii values of each item in the keys .\n",
    "        return h%self.max # using mod function we are getting the remainder of sum  .\n",
    "\n",
    "    def __setitem__(self,key,value):# using __setter__ method in list to set the value to given index from the item method .\n",
    "        adding_value = self.item(key) # getting the key from the user and calling the item class for getting the index value .\n",
    "        key_exists = False\n",
    "        slot = self.arr[adding_value] # by getting the index value. assigning it to the arr[index] so that value is assigned to the index in the arr.\n",
    "        for x,y  in enumerate(slot):\n",
    "            k,v = kv\n",
    "            if key == k:\n",
    "                key_exists = True\n",
    "                break\n",
    "        if key_exists:\n",
    "            slot[i] = ((key,value))\n",
    "        else:\n",
    "            slot.append((key,value))\n",
    "    \n",
    "    def __getitem__(self,key): # using __getter__ method in list to get the values from the array .\n",
    "        getting_value = self.item(key)  # getting the key from the user and calling the item class for getting the index value .\n",
    "       \n",
    "        \n",
    "        self.arr[getting_value].append((x,y))\n",
    "        \n",
    "    def delete_item(self,value): # deleting the value .\n",
    "        self.arr.pop(value) # using pop operation we are deleting the item from the arr .\n",
    "       \n",
    "\n",
    "\n",
    "ob = hashtable()\n",
    "ob['march 1'] = \"nice day\"\n",
    "ob['march 2'] = \"somewhat okay!\"\n",
    "ob['march 3'] = \"well good\"\n",
    "ob['march 4'] = \"worst ever.\"\n",
    "ob['march 5'] = \"extraordinary \"\n",
    "ob['march 6'] = \"happy \"\n",
    "ob['october 1'] = \"bad\"\n",
    "ob['october 2'] = \"my day\"\n",
    "ob['october 3'] = \"devils day\"\n",
    "ob['november 24'] = \"hot day\"\n",
    "ob['january 19'] = \"happiest day \"\n",
    "ob['february 19'] = \"my and my ex day\"\n",
    "\n",
    "\n",
    "ob['october 1']\n",
    "\n",
    "\n",
    "\n",
    "\n",
    "\n",
    "#ob.delete_item()\n",
    "ob.arr"
   ]
  },
  {
   "cell_type": "code",
   "execution_count": 13,
   "id": "b8614e6b",
   "metadata": {},
   "outputs": [
    {
     "data": {
      "text/plain": [
       "[[('nithi', 59)], [], [], [], [], [('akill', 12)], [], [], []]"
      ]
     },
     "execution_count": 13,
     "metadata": {},
     "output_type": "execute_result"
    }
   ],
   "source": [
    "class hashtable:\n",
    "    def __init__(self):\n",
    "        self.size = 10\n",
    "        self.hashmap = [[] for i in range(1,self.size)]\n",
    "        #print(self.hashmap)\n",
    "        \n",
    "    def hashing_func(self,key):\n",
    "        h = 0 \n",
    "        for char in key:\n",
    "            h += ord(char)\n",
    "        hashed = h%self.size\n",
    "        return hashed\n",
    "    \n",
    "    def __setitem__(self,key,value):\n",
    "        hashing_key = self.hashing_func(key) \n",
    "        key_exists = False\n",
    "        slot = self.hashmap[hashing_key] \n",
    "        for x,y in enumerate(slot):\n",
    "            k,v = kv\n",
    "            if key == v:\n",
    "                key_exists = True\n",
    "                break\n",
    "        \n",
    "        if key_exists:\n",
    "            slot[i] = ((key,value))\n",
    "        else:\n",
    "            slot.append((key,value))\n",
    "                \n",
    "\n",
    "ob = hashtable()\n",
    "ob['akill'] = 12\n",
    "ob['nithi'] = 59\n",
    "ob.hashmap"
   ]
  },
  {
   "cell_type": "code",
   "execution_count": null,
   "id": "1157d9a1",
   "metadata": {},
   "outputs": [],
   "source": []
  }
 ],
 "metadata": {
  "kernelspec": {
   "display_name": "Python 3 (ipykernel)",
   "language": "python",
   "name": "python3"
  },
  "language_info": {
   "codemirror_mode": {
    "name": "ipython",
    "version": 3
   },
   "file_extension": ".py",
   "mimetype": "text/x-python",
   "name": "python",
   "nbconvert_exporter": "python",
   "pygments_lexer": "ipython3",
   "version": "3.9.7"
  }
 },
 "nbformat": 4,
 "nbformat_minor": 5
}
