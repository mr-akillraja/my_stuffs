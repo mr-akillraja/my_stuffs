{
 "cells": [
  {
   "cell_type": "markdown",
   "id": "a6956b7d",
   "metadata": {},
   "source": [
    " # singly linked list implementation on stack . \n",
    "     # operation on  stack \n",
    "        1. push opertion \n",
    "        2.pop operation \n",
    "        3.display operation\n",
    "        4.checking empty or not \n",
    "        5. checking the length of linked list of the stack \n",
    "        \n",
    "     # methods are following:\n",
    "        1.general class method . \n",
    "        2.using collections module \n",
    "        3.using the concept of the singly linke list . "
   ]
  },
  {
   "cell_type": "code",
   "execution_count": 256,
   "id": "c0e71e68",
   "metadata": {},
   "outputs": [
    {
     "data": {
      "text/plain": [
       "[10, 12, 14]"
      ]
     },
     "execution_count": 256,
     "metadata": {},
     "output_type": "execute_result"
    }
   ],
   "source": [
    "# Implementation of Stack DataStructure . \n",
    "\n",
    "class stack:\n",
    "    def __init__(self):\n",
    "        self.stack = [] # creating empty stack as a list .\n",
    "    \n",
    "    def append_data(self,data):\n",
    "        self.stack.append(data) # appending the list . \n",
    "        \n",
    "    \n",
    "    def pop_stack(self):\n",
    "        if len(self.stack) == 0: # checking whether the stack is empty\n",
    "            print(\"the stack is empty, the pop operation can't be done\")\n",
    "        else:\n",
    "            self.stack.pop() # if not deleting the element . \n",
    "            \n",
    "    def view_stack(self):\n",
    "        return self.stack # viewing the elements present in the stack . \n",
    "        \n",
    "\n",
    "obj = stack()\n",
    "\n",
    "obj.append_data(10)\n",
    "obj.append_data(12)\n",
    "obj.append_data(14)\n",
    "obj.append_data(15)\n",
    "obj.pop_stack()\n",
    "obj.view_stack()\n",
    "\n",
    "\n",
    "\n",
    "        "
   ]
  },
  {
   "cell_type": "code",
   "execution_count": 257,
   "id": "88be9ae1",
   "metadata": {},
   "outputs": [
    {
     "name": "stdout",
     "output_type": "stream",
     "text": [
      "the element is at top 1  17584\n",
      "the element is at top 2 14\n"
     ]
    }
   ],
   "source": [
    "# # Implementation of Stack DataStructure Using Collections Module . \n",
    "\n",
    "import collections\n",
    "\n",
    "stack = collections.deque()\n",
    "stack.append(12)\n",
    "stack.append(1)\n",
    "stack.append(14)\n",
    "stack.append(17584)\n",
    "print(\"the element is at top 1 \",stack.pop())\n",
    "print(\"the element is at top 2\",stack.pop())    \n"
   ]
  },
  {
   "cell_type": "code",
   "execution_count": 1,
   "id": "7958178a",
   "metadata": {},
   "outputs": [
    {
     "name": "stdout",
     "output_type": "stream",
     "text": [
      "Adding The Elements in A Empty Linked List . \n",
      " -- >>  16789 -- >>  145 -- >>  1 -- >>  12"
     ]
    },
    {
     "data": {
      "text/plain": [
       "16789"
      ]
     },
     "execution_count": 1,
     "metadata": {},
     "output_type": "execute_result"
    }
   ],
   "source": [
    "class IsemptyError(Exception):\n",
    "    pass \n",
    " \n",
    " #creation node class .   \n",
    "class node:\n",
    "    def __init__(self,data):\n",
    "        self.data = data\n",
    "        self.ref = None\n",
    "\n",
    "#creation of stack class\n",
    "class Stack:\n",
    "    def __init__(self):\n",
    "        self.head = None # the head value as None.\n",
    "        self.size = 0 # size is defined to find the number of elements of the linked list .\n",
    "\n",
    "    def len_ssl(self):\n",
    "        return self.size # returning the size of the linked list elements . \n",
    "\n",
    "    def isempty(self):\n",
    "        return self.size == 0 # when the linked list is empty .\n",
    "\n",
    "    def push(self,element):\n",
    "        new_node = node(element) # creation of node -->> by callling of node class . \n",
    "        new_node.ref = self.head # pointing the new node reference to the head node .\n",
    "        self.head = new_node # changing the head value to the new_node .\n",
    "        self.size += 1 # increment is done because of pushing an element .\n",
    "\n",
    "    def pop(self):\n",
    "        if self.isempty():\n",
    "            raise IsemptyError(\"there singly linked list is empty.add the elements to perform the fuctions\")\n",
    "        \n",
    "        else:\n",
    "            temp = self.head  # creation of an temporary variable assign the value of head node .\n",
    "            self.head = temp.ref # changing the head node by pointing the head node to the second of the linked list .\n",
    "            temp.ref = None # changing the head node reference as \"NONE\".so that it will be deleted . \n",
    "            self.size -= 1\n",
    "    \n",
    "    def top(self):\n",
    "        if self.isempty():\n",
    "            raise IsemptyError(\"there singly linked list is empty.add the elements to perform the fuctions\")\n",
    "        return self.head.data # finding the top element  of linked list .\n",
    "            \n",
    "\n",
    "    def dis(self):\n",
    "        n = self.head \n",
    "        print(\"Adding The Elements in A Empty Linked List . \")\n",
    "        while n:\n",
    "            print(\" -- >> \",n.data,end = '')\n",
    "            n = n.ref\n",
    "\n",
    "ob = Stack()\n",
    "ob.push(12)\n",
    "ob.push(1)\n",
    "ob.push(145)\n",
    "ob.push(11)\n",
    "ob.pop()\n",
    "ob.push(16789)\n",
    "ob.dis()\n",
    "ob.len_ssl()\n",
    "ob.top()"
   ]
  },
  {
   "cell_type": "code",
   "execution_count": 254,
   "id": "15889626",
   "metadata": {},
   "outputs": [],
   "source": []
  },
  {
   "cell_type": "code",
   "execution_count": null,
   "id": "35a76771",
   "metadata": {},
   "outputs": [],
   "source": []
  },
  {
   "cell_type": "code",
   "execution_count": null,
   "id": "ba5db9e5",
   "metadata": {},
   "outputs": [],
   "source": []
  },
  {
   "cell_type": "code",
   "execution_count": null,
   "id": "ac45f36e",
   "metadata": {},
   "outputs": [],
   "source": []
  }
 ],
 "metadata": {
  "kernelspec": {
   "display_name": "Python 3 (ipykernel)",
   "language": "python",
   "name": "python3"
  },
  "language_info": {
   "codemirror_mode": {
    "name": "ipython",
    "version": 3
   },
   "file_extension": ".py",
   "mimetype": "text/x-python",
   "name": "python",
   "nbconvert_exporter": "python",
   "pygments_lexer": "ipython3",
   "version": "3.9.7"
  }
 },
 "nbformat": 4,
 "nbformat_minor": 5
}
