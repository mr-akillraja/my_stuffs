{
 "cells": [
  {
   "cell_type": "markdown",
   "id": "2dd8a4a0",
   "metadata": {},
   "source": [
    "## Custom Exception "
   ]
  },
  {
   "cell_type": "code",
   "execution_count": 2,
   "id": "3bb2a0cf",
   "metadata": {},
   "outputs": [
    {
     "name": "stdout",
     "output_type": "stream",
     "text": [
      "enter the age : 45\n",
      "eligible to vote.\n"
     ]
    }
   ],
   "source": [
    "# custom exception for invalid age\n",
    "\n",
    "class InvalidAgeException(Exception):\n",
    "    pass\n",
    "\n",
    "number = 20\n",
    "try :\n",
    "    input_no = int(input(\"enter the age : \"))\n",
    "    if input_no < number :\n",
    "        raise InvalidAgeException\n",
    "    else:\n",
    "        print(\"eligible to vote.\")\n",
    "except InvalidAgeException:\n",
    "    print(\"Exception occured : invalid age\")\n",
    "        "
   ]
  },
  {
   "cell_type": "code",
   "execution_count": 7,
   "id": "7fb87d60",
   "metadata": {},
   "outputs": [
    {
     "name": "stdout",
     "output_type": "stream",
     "text": [
      "enter the number : 7\n",
      "The correct number is :  7\n"
     ]
    }
   ],
   "source": [
    "## user defined exceptions \n",
    "\n",
    "# Base class for other error's\n",
    "class error(Exception):\n",
    "    pass\n",
    "class ZeroDivisionError(Exception):\n",
    "    pass\n",
    "\n",
    "number = int(input(\"enter the number : \"))\n",
    "try :\n",
    "    if number == 0 :\n",
    "        raise ZeroDivisionError\n",
    "except ZeroDivisionError:\n",
    "    print(\"The input is zero,try again with a new number\")\n",
    "else:\n",
    "    print(\"The correct number is : \",number)"
   ]
  },
  {
   "cell_type": "code",
   "execution_count": null,
   "id": "4b5e6a7e",
   "metadata": {},
   "outputs": [],
   "source": []
  },
  {
   "cell_type": "code",
   "execution_count": 12,
   "id": "fe6b8aa5",
   "metadata": {},
   "outputs": [
    {
     "name": "stdout",
     "output_type": "stream",
     "text": [
      "enter the year of birth : 2009\n",
      "14\n",
      "the age is not valid,your not a valid candidate for the exam\n"
     ]
    }
   ],
   "source": [
    "# custom exception handling for age limit.\n",
    "\n",
    "class error(Exception):\n",
    "    pass\n",
    "\n",
    "class dobexception(error):\n",
    "    pass\n",
    "\n",
    "year = int(input(\"enter the year of birth : \"))\n",
    "age = 2023 - year\n",
    "print(age)\n",
    "try :\n",
    "    if age <=30 and age >20:\n",
    "        print(\"well and good\")\n",
    "    else:\n",
    "        raise dobexception \n",
    "except dobexception:\n",
    "    print(\"the age is not valid,your not a valid candidate for the exam\")"
   ]
  },
  {
   "cell_type": "code",
   "execution_count": 13,
   "id": "18a0299a",
   "metadata": {},
   "outputs": [
    {
     "name": "stdout",
     "output_type": "stream",
     "text": [
      "enter the salary : 30500\n"
     ]
    },
    {
     "ename": "SalaryNotInRange",
     "evalue": "salary not in range try to decrease the salary",
     "output_type": "error",
     "traceback": [
      "\u001b[1;31m---------------------------------------------------------------------------\u001b[0m",
      "\u001b[1;31mSalaryNotInRange\u001b[0m                          Traceback (most recent call last)",
      "Cell \u001b[1;32mIn[13], line 16\u001b[0m\n\u001b[0;32m     14\u001b[0m \u001b[38;5;28;01melif\u001b[39;00m salary \u001b[38;5;241m>\u001b[39m \u001b[38;5;241m15000\u001b[39m:\n\u001b[0;32m     15\u001b[0m     message \u001b[38;5;241m=\u001b[39m \u001b[38;5;124m\"\u001b[39m\u001b[38;5;124msalary not in range try to decrease the salary\u001b[39m\u001b[38;5;124m\"\u001b[39m\n\u001b[1;32m---> 16\u001b[0m     \u001b[38;5;28;01mraise\u001b[39;00m SalaryNotInRange(salary,message)\n\u001b[0;32m     17\u001b[0m \u001b[38;5;28;01melse\u001b[39;00m:\n\u001b[0;32m     18\u001b[0m     \u001b[38;5;28mprint\u001b[39m(\u001b[38;5;124m\"\u001b[39m\u001b[38;5;124msalary is in correct range\u001b[39m\u001b[38;5;124m\"\u001b[39m)\n",
      "\u001b[1;31mSalaryNotInRange\u001b[0m: salary not in range try to decrease the salary"
     ]
    }
   ],
   "source": [
    "## custom exception for salary \n",
    "\n",
    "\n",
    "class SalaryNotInRange(Exception):\n",
    "    def __init__(self,salary,message):\n",
    "        self.salary = salary\n",
    "        self.message = message\n",
    "        super().__init__(self.message)\n",
    "\n",
    "salary = int(input(\"enter the salary : \"))\n",
    "if salary < 5000:\n",
    "    message = \"salary not in range try to increase the salary\"\n",
    "    raise SalaryNotInRange(salary,message)\n",
    "elif salary > 15000:\n",
    "    message = \"salary not in range try to decrease the salary\"\n",
    "    raise SalaryNotInRange(salary,message)\n",
    "else:\n",
    "    print(\"salary is in correct range\")\n"
   ]
  },
  {
   "cell_type": "code",
   "execution_count": 10,
   "id": "5f44abc2",
   "metadata": {},
   "outputs": [
    {
     "name": "stdout",
     "output_type": "stream",
     "text": [
      "enter the age : 12\n",
      "Exception occured : invalid age\n"
     ]
    }
   ],
   "source": [
    "# custom exception for invalid age\n",
    "\n",
    "class InvalidAgeException(Exception):\n",
    "    pass\n",
    "\n",
    "number = 20\n",
    "try :\n",
    "    input_no = int(input(\"enter the age : \"))\n",
    "    if input_no < number :\n",
    "        raise InvalidAgeException\n",
    "    else:\n",
    "        print(\"eligible to vote.\")\n",
    "except InvalidAgeException:\n",
    "    print(\"Exception occured : invalid age\")\n",
    "        "
   ]
  },
  {
   "cell_type": "code",
   "execution_count": null,
   "id": "7ea3df57",
   "metadata": {},
   "outputs": [],
   "source": []
  },
  {
   "cell_type": "code",
   "execution_count": null,
   "id": "2e596477",
   "metadata": {},
   "outputs": [],
   "source": []
  }
 ],
 "metadata": {
  "kernelspec": {
   "display_name": "Python 3 (ipykernel)",
   "language": "python",
   "name": "python3"
  },
  "language_info": {
   "codemirror_mode": {
    "name": "ipython",
    "version": 3
   },
   "file_extension": ".py",
   "mimetype": "text/x-python",
   "name": "python",
   "nbconvert_exporter": "python",
   "pygments_lexer": "ipython3",
   "version": "3.9.7"
  }
 },
 "nbformat": 4,
 "nbformat_minor": 5
}
