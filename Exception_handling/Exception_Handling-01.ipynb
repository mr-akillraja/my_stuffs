{
 "cells": [
  {
   "cell_type": "markdown",
   "id": "f5bdd0ae",
   "metadata": {},
   "source": [
    "## Exception Handling"
   ]
  },
  {
   "cell_type": "code",
   "execution_count": 1,
   "id": "3aff45de",
   "metadata": {},
   "outputs": [
    {
     "name": "stdout",
     "output_type": "stream",
     "text": [
      "some problem may have occur\n"
     ]
    }
   ],
   "source": [
    "try:\n",
    "    # code block where exception can occur\n",
    "    a=b\n",
    "except:\n",
    "    print(\"some problem may have occur\")"
   ]
  },
  {
   "cell_type": "code",
   "execution_count": 3,
   "id": "e97de7c4",
   "metadata": {},
   "outputs": [
    {
     "name": "stdout",
     "output_type": "stream",
     "text": [
      "the user has not defined the variable . \n"
     ]
    }
   ],
   "source": [
    "# code 1\n",
    "try:\n",
    "    # code block where exception can occur\n",
    "    a=b\n",
    "except NameError as ex1:\n",
    "    print(\"the user has not defined the variable . \")\n",
    "except Exception as ex:\n",
    "    print(ex)"
   ]
  },
  {
   "cell_type": "code",
   "execution_count": 5,
   "id": "27707222",
   "metadata": {},
   "outputs": [
    {
     "name": "stdout",
     "output_type": "stream",
     "text": [
      "try to make same integer . \n"
     ]
    }
   ],
   "source": [
    "# code 2 \n",
    "\n",
    "try:\n",
    "    # code block where exception can occur\n",
    "    a=1\n",
    "    b='2'\n",
    "    c = a+b\n",
    "except NameError:\n",
    "    print(\"the user has not defined the variable . \")\n",
    "except TypeError:\n",
    "    print(\"try to make same integer . \")\n",
    "except Exception as ex:\n",
    "    print(ex)\n",
    "\n"
   ]
  },
  {
   "cell_type": "code",
   "execution_count": 11,
   "id": "d6d9780d",
   "metadata": {},
   "outputs": [
    {
     "name": "stdout",
     "output_type": "stream",
     "text": [
      "enter the number 1 :12\n",
      "enter the number 2 :0\n",
      "Provide number greater than zero\n"
     ]
    }
   ],
   "source": [
    "# code 2 \n",
    "\n",
    "try:\n",
    "    # code block where exception can occur\n",
    "    a=int(input(\"enter the number 1 :\"))\n",
    "    b=int(input(\"enter the number 2 :\"))\n",
    "    c = a/b\n",
    "    print(c)\n",
    "except NameError:\n",
    "    print(\"the user has not defined the variable . \")\n",
    "except ZeroDivisionError:\n",
    "    print(\"Provide number greater than zero\")\n",
    "except TypeError:\n",
    "    print(\"try to make same integer . \")\n",
    "except Exception as ex:\n",
    "    print(ex)\n",
    "\n"
   ]
  },
  {
   "cell_type": "code",
   "execution_count": 14,
   "id": "bf0ec74c",
   "metadata": {},
   "outputs": [
    {
     "name": "stdout",
     "output_type": "stream",
     "text": [
      "enter the number 1 :12\n",
      "enter the number 2 :0\n",
      "Provide number greater than zero\n"
     ]
    }
   ],
   "source": [
    "# code 2 \n",
    "\n",
    "try:\n",
    "    # code block where exception can occur\n",
    "    a=int(input(\"enter the number 1 :\"))\n",
    "    b=int(input(\"enter the number 2 :\"))\n",
    "    c = a/b\n",
    "except NameError:\n",
    "    print(\"the user has not defined the variable . \")\n",
    "except ZeroDivisionError:\n",
    "    print(\"Provide number greater than zero\")\n",
    "except TypeError:\n",
    "    print(\"try to make same integer . \")\n",
    "except Exception as ex:\n",
    "    print(ex)\n",
    "else:\n",
    "    print(c)"
   ]
  },
  {
   "cell_type": "code",
   "execution_count": 16,
   "id": "bac8aa08",
   "metadata": {},
   "outputs": [
    {
     "name": "stdout",
     "output_type": "stream",
     "text": [
      "enter the number 1 :34\n",
      "enter the number 2 :0\n",
      "Provide number greater than zero\n",
      "The execution has done.\n"
     ]
    }
   ],
   "source": [
    "# code 2 \n",
    "\n",
    "try:\n",
    "    # code block where exception can occur\n",
    "    a=int(input(\"enter the number 1 :\"))\n",
    "    b=int(input(\"enter the number 2 :\"))\n",
    "    c = a/b\n",
    "except NameError:\n",
    "    print(\"the user has not defined the variable . \")\n",
    "except ZeroDivisionError:\n",
    "    print(\"Provide number greater than zero\")\n",
    "except TypeError:\n",
    "    print(\"try to make same integer . \")\n",
    "except Exception as ex:\n",
    "    print(ex)\n",
    "else:\n",
    "    print(c)\n",
    "finally:\n",
    "    print(\"The execution has done.\")\n",
    "    "
   ]
  },
  {
   "cell_type": "code",
   "execution_count": 20,
   "id": "f9542cc4",
   "metadata": {},
   "outputs": [
    {
     "name": "stdout",
     "output_type": "stream",
     "text": [
      "('E', 'r', 'r', 'o', 'r')\n"
     ]
    }
   ],
   "source": [
    "# Standard Exceptions as base class \n",
    "class NetworkError(Exception):\n",
    "    def __init__(self,args):\n",
    "        self.args = args\n",
    "try :\n",
    "    raise NetworkError(\"Error\")\n",
    "except NetworkError as e:\n",
    "    print(e.args)"
   ]
  },
  {
   "cell_type": "code",
   "execution_count": null,
   "id": "44b96336",
   "metadata": {},
   "outputs": [],
   "source": []
  }
 ],
 "metadata": {
  "kernelspec": {
   "display_name": "Python 3 (ipykernel)",
   "language": "python",
   "name": "python3"
  },
  "language_info": {
   "codemirror_mode": {
    "name": "ipython",
    "version": 3
   },
   "file_extension": ".py",
   "mimetype": "text/x-python",
   "name": "python",
   "nbconvert_exporter": "python",
   "pygments_lexer": "ipython3",
   "version": "3.9.7"
  }
 },
 "nbformat": 4,
 "nbformat_minor": 5
}
